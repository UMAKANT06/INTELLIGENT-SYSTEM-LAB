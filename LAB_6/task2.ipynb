{
 "cells": [
  {
   "cell_type": "code",
   "execution_count": 1,
   "metadata": {},
   "outputs": [],
   "source": [
    "import numpy as np\n",
    "import math"
   ]
  },
  {
   "cell_type": "code",
   "execution_count": 2,
   "metadata": {},
   "outputs": [
    {
     "name": "stdout",
     "output_type": "stream",
     "text": [
      "Result: y = -34.70002542510922 + 12.9000115255423 x + 8.114507408638266 x^2 + 3.4221010746022804 x^3\n"
     ]
    }
   ],
   "source": [
    "import numpy as np\n",
    "import math\n",
    "from scipy.optimize import minimize\n",
    "\n",
    "# Create random input and output data\n",
    "x = np.linspace(-math.pi, math.pi, 2000)\n",
    "y = -34.7 + 12.9 * x + 8.1145 * x**2 + 3.4221 * x**3\n",
    "\n",
    "# Define loss function\n",
    "def loss(params):\n",
    "    a, b, c, d = params\n",
    "    y_pred = a + b * x + c * x ** 2 + d * x ** 3\n",
    "    return np.square(y_pred - y).sum()\n",
    "\n",
    "# Randomly initialize weights\n",
    "initial_guess = np.random.randn(4)\n",
    "\n",
    "# Optimize weights using scipy.optimize.minimize\n",
    "result = minimize(loss, initial_guess, method='Nelder-Mead')\n",
    "\n",
    "# Extract optimized parameters\n",
    "a_opt, b_opt, c_opt, d_opt = result.x\n",
    "\n",
    "print(f'Result: y = {a_opt} + {b_opt} x + {c_opt} x^2 + {d_opt} x^3')\n",
    "\n",
    "\n"
   ]
  },
  {
   "cell_type": "code",
   "execution_count": null,
   "metadata": {},
   "outputs": [],
   "source": []
  },
  {
   "cell_type": "code",
   "execution_count": null,
   "metadata": {},
   "outputs": [],
   "source": [
    "\n",
    "\n"
   ]
  }
 ],
 "metadata": {
  "kernelspec": {
   "display_name": "Python 3",
   "language": "python",
   "name": "python3"
  },
  "language_info": {
   "codemirror_mode": {
    "name": "ipython",
    "version": 3
   },
   "file_extension": ".py",
   "mimetype": "text/x-python",
   "name": "python",
   "nbconvert_exporter": "python",
   "pygments_lexer": "ipython3",
   "version": "3.11.8"
  }
 },
 "nbformat": 4,
 "nbformat_minor": 2
}
