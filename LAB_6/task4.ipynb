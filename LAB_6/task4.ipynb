{
 "cells": [
  {
   "cell_type": "code",
   "execution_count": null,
   "metadata": {},
   "outputs": [],
   "source": [
    "import numpy as np\n",
    "import torch\n",
    "import math\n",
    "\n",
    "# Create random input and output data\n",
    "x = np.linspace(-math.pi, math.pi, 2000)\n",
    "y = -34.7 + 12.9 * x + 8.1145 * x**2 + 3.4221 * x**3\n",
    "\n",
    "# Convert data to PyTorch tensors\n",
    "x_tensor = torch.tensor(x, dtype=torch.float32)\n",
    "y_tensor = torch.tensor(y, dtype=torch.float32)\n",
    "\n",
    "# Define parameters (weights) and wrap them in PyTorch tensors with requires_grad=True\n",
    "params = torch.tensor([1.0, 1.0, 1.0, 1.0], dtype=torch.float32, requires_grad=True)\n",
    "\n",
    "learning_rate = 1e-6\n",
    "optimizer = torch.optim.SGD([params], lr=learning_rate)\n",
    "for t in range(5000):\n",
    "    # Forward pass: compute predicted y\n",
    "    y_pred = params[0] + params[1] * x_tensor + params[2] * x_tensor ** 2 + params[3] * x_tensor ** 3\n",
    "\n",
    "    # Compute and print loss\n",
    "    loss = torch.sum((y_pred - y_tensor) ** 2)\n",
    "    if t % 100 == 99:\n",
    "        print(t, loss.item())\n",
    "\n",
    "    # Backpropagation using autograd\n",
    "    optimizer.zero_grad()\n",
    "    loss.backward()\n",
    "\n",
    "    # Update weights using SGD optimizer\n",
    "    optimizer.step()\n",
    "\n",
    "print(f'Result: y = {params[0].item()} + {params[1].item()} x + {params[2].item()} x^2 + {params[3].item()} x^3')\n"
   ]
  }
 ],
 "metadata": {
  "language_info": {
   "name": "python"
  }
 },
 "nbformat": 4,
 "nbformat_minor": 2
}
