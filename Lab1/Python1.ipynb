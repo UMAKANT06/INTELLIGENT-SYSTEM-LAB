{
 "cells": [
  {
   "cell_type": "code",
   "execution_count": 1,
   "metadata": {},
   "outputs": [
    {
     "name": "stdout",
     "output_type": "stream",
     "text": [
      "kali\n"
     ]
    }
   ],
   "source": [
    "print ('kali')"
   ]
  },
  {
   "cell_type": "code",
   "execution_count": 3,
   "metadata": {},
   "outputs": [
    {
     "name": "stdout",
     "output_type": "stream",
     "text": [
      "126\n"
     ]
    }
   ],
   "source": [
    "x = 3\n",
    "y = x +123\n",
    "print (y)"
   ]
  },
  {
   "cell_type": "code",
   "execution_count": 4,
   "metadata": {},
   "outputs": [
    {
     "name": "stdout",
     "output_type": "stream",
     "text": [
      "3.14234\n"
     ]
    }
   ],
   "source": [
    "x = 3.14234\n",
    "print (x)"
   ]
  },
  {
   "cell_type": "code",
   "execution_count": 8,
   "metadata": {},
   "outputs": [
    {
     "name": "stdout",
     "output_type": "stream",
     "text": [
      "12\n"
     ]
    }
   ],
   "source": [
    "i = input(\"enter string:\")\n",
    "print (i)"
   ]
  },
  {
   "cell_type": "code",
   "execution_count": 9,
   "metadata": {},
   "outputs": [
    {
     "ename": "TypeError",
     "evalue": "can only concatenate str (not \"int\") to str",
     "output_type": "error",
     "traceback": [
      "\u001b[0;31m---------------------------------------------------------------------------\u001b[0m",
      "\u001b[0;31mTypeError\u001b[0m                                 Traceback (most recent call last)",
      "Cell \u001b[0;32mIn[9], line 1\u001b[0m\n\u001b[0;32m----> 1\u001b[0m j \u001b[38;5;241m=\u001b[39m \u001b[43mi\u001b[49m\u001b[43m \u001b[49m\u001b[38;5;241;43m+\u001b[39;49m\u001b[43m \u001b[49m\u001b[38;5;241;43m3\u001b[39;49m\n\u001b[1;32m      2\u001b[0m \u001b[38;5;28mprint\u001b[39m (j)\n",
      "\u001b[0;31mTypeError\u001b[0m: can only concatenate str (not \"int\") to str"
     ]
    }
   ],
   "source": [
    "j = i + 3\n",
    "print (j)"
   ]
  },
  {
   "cell_type": "code",
   "execution_count": 10,
   "metadata": {},
   "outputs": [
    {
     "name": "stdout",
     "output_type": "stream",
     "text": [
      "15\n"
     ]
    }
   ],
   "source": [
    "j = int(i) + 3\n",
    "print (j)\n"
   ]
  },
  {
   "cell_type": "code",
   "execution_count": 11,
   "metadata": {},
   "outputs": [
    {
     "name": "stdout",
     "output_type": "stream",
     "text": [
      "16.5\n"
     ]
    }
   ],
   "source": [
    "j = int(i) + 4.5\n",
    "print (j)"
   ]
  },
  {
   "cell_type": "code",
   "execution_count": 12,
   "metadata": {},
   "outputs": [
    {
     "name": "stdout",
     "output_type": "stream",
     "text": [
      "16.5\n"
     ]
    }
   ],
   "source": [
    "j = float(i) + 4.5\n",
    "print (j)"
   ]
  },
  {
   "cell_type": "code",
   "execution_count": 13,
   "metadata": {},
   "outputs": [
    {
     "name": "stdout",
     "output_type": "stream",
     "text": [
      "12 16.5\n"
     ]
    }
   ],
   "source": [
    "print (i,j)"
   ]
  },
  {
   "cell_type": "code",
   "execution_count": 14,
   "metadata": {},
   "outputs": [
    {
     "name": "stdout",
     "output_type": "stream",
     "text": [
      "12 kali 16.5\n"
     ]
    }
   ],
   "source": [
    "print (i,'kali',j)"
   ]
  },
  {
   "cell_type": "code",
   "execution_count": 15,
   "metadata": {},
   "outputs": [
    {
     "name": "stdout",
     "output_type": "stream",
     "text": [
      "i=3, j=4.700000\n",
      "i=3     , j=4.70      \n",
      "i=3     , j= 4.70, str=kali, hex=12f\n",
      "i=3, j=4.7, str=kali, hex=0x12f\n"
     ]
    }
   ],
   "source": [
    "i = 3\n",
    "j = 4.7\n",
    "print ('i=%d, j=%f'%(i,j))\n",
    "print ('i=%-6d, j=%-10.2f'%(i,j))\n",
    "print ('i=%-6d, j=%5.2f, str=%s, hex=%x'%(i,j,'kali',(i+300)))\n",
    "mystr = 'kali'\n",
    "print ('i={0}, j={1}, str={2}, hex={3}'.format(i,j,mystr,hex(i+300) ) )"
   ]
  },
  {
   "cell_type": "code",
   "execution_count": 16,
   "metadata": {},
   "outputs": [
    {
     "name": "stdout",
     "output_type": "stream",
     "text": [
      "['kali', 'das']\n"
     ]
    }
   ],
   "source": [
    "x = ['kali','das']\n",
    "print (x)"
   ]
  },
  {
   "cell_type": "code",
   "execution_count": 17,
   "metadata": {},
   "outputs": [
    {
     "name": "stdout",
     "output_type": "stream",
     "text": [
      "2\n"
     ]
    }
   ],
   "source": [
    "print (len(x))"
   ]
  },
  {
   "cell_type": "code",
   "execution_count": 18,
   "metadata": {},
   "outputs": [
    {
     "name": "stdout",
     "output_type": "stream",
     "text": [
      "['abc', 7.8, -3.4, 23, 'def', ['abc', 123]] 6\n"
     ]
    }
   ],
   "source": [
    "x = ['abc', 7.8, -3.4, 23, 'def', ['abc', 123]]\n",
    "print (x, len(x))"
   ]
  },
  {
   "cell_type": "code",
   "execution_count": 19,
   "metadata": {},
   "outputs": [
    {
     "name": "stdout",
     "output_type": "stream",
     "text": [
      "['abc', 7.8, -3.4, 23, 'def', ['abc', 123], 'abc', 34.654]\n"
     ]
    }
   ],
   "source": [
    "x = x + ['abc', 34.654]\n",
    "print (x)"
   ]
  },
  {
   "cell_type": "code",
   "execution_count": 20,
   "metadata": {},
   "outputs": [
    {
     "name": "stdout",
     "output_type": "stream",
     "text": [
      "8\n"
     ]
    }
   ],
   "source": [
    "print (len(x))"
   ]
  },
  {
   "cell_type": "code",
   "execution_count": 21,
   "metadata": {},
   "outputs": [
    {
     "name": "stdout",
     "output_type": "stream",
     "text": [
      "False\n"
     ]
    }
   ],
   "source": [
    "print (7.7999 in x)"
   ]
  },
  {
   "cell_type": "code",
   "execution_count": 22,
   "metadata": {},
   "outputs": [
    {
     "name": "stdout",
     "output_type": "stream",
     "text": [
      "True\n"
     ]
    }
   ],
   "source": [
    "print ('abc' in x)"
   ]
  },
  {
   "cell_type": "code",
   "execution_count": 23,
   "metadata": {},
   "outputs": [
    {
     "name": "stdout",
     "output_type": "stream",
     "text": [
      "False\n"
     ]
    }
   ],
   "source": [
    "print ('ab' in x)"
   ]
  },
  {
   "cell_type": "code",
   "execution_count": 24,
   "metadata": {},
   "outputs": [
    {
     "name": "stdout",
     "output_type": "stream",
     "text": [
      "True\n"
     ]
    }
   ],
   "source": [
    "print (34.654 in x)"
   ]
  },
  {
   "cell_type": "code",
   "execution_count": 25,
   "metadata": {},
   "outputs": [
    {
     "name": "stdout",
     "output_type": "stream",
     "text": [
      "True\n"
     ]
    }
   ],
   "source": [
    "print (['abc', 123] in x)"
   ]
  },
  {
   "cell_type": "code",
   "execution_count": 26,
   "metadata": {},
   "outputs": [
    {
     "name": "stdout",
     "output_type": "stream",
     "text": [
      "False\n"
     ]
    }
   ],
   "source": [
    "print (['abc', 122.9999999991] in x)"
   ]
  },
  {
   "cell_type": "code",
   "execution_count": 27,
   "metadata": {},
   "outputs": [
    {
     "name": "stdout",
     "output_type": "stream",
     "text": [
      "False\n"
     ]
    }
   ],
   "source": [
    "print ([123,'abc'] in x)"
   ]
  },
  {
   "cell_type": "code",
   "execution_count": 28,
   "metadata": {},
   "outputs": [
    {
     "name": "stdout",
     "output_type": "stream",
     "text": [
      "abc\n"
     ]
    }
   ],
   "source": [
    "print (x[0])"
   ]
  },
  {
   "cell_type": "code",
   "execution_count": 29,
   "metadata": {},
   "outputs": [
    {
     "name": "stdout",
     "output_type": "stream",
     "text": [
      "7.8\n"
     ]
    }
   ],
   "source": [
    "print (x[1])"
   ]
  },
  {
   "cell_type": "code",
   "execution_count": 30,
   "metadata": {},
   "outputs": [
    {
     "name": "stdout",
     "output_type": "stream",
     "text": [
      "34.654\n"
     ]
    }
   ],
   "source": [
    "print (x[-1])"
   ]
  },
  {
   "cell_type": "code",
   "execution_count": 31,
   "metadata": {},
   "outputs": [
    {
     "name": "stdout",
     "output_type": "stream",
     "text": [
      "['abc', 123]\n"
     ]
    }
   ],
   "source": [
    "print (x[-3])"
   ]
  },
  {
   "cell_type": "code",
   "execution_count": 32,
   "metadata": {},
   "outputs": [
    {
     "ename": "TypeError",
     "evalue": "unsupported operand type(s) for -: 'list' and 'float'",
     "output_type": "error",
     "traceback": [
      "\u001b[0;31m---------------------------------------------------------------------------\u001b[0m",
      "\u001b[0;31mTypeError\u001b[0m                                 Traceback (most recent call last)",
      "Cell \u001b[0;32mIn[32], line 1\u001b[0m\n\u001b[0;32m----> 1\u001b[0m x \u001b[38;5;241m=\u001b[39m \u001b[43mx\u001b[49m\u001b[43m \u001b[49m\u001b[38;5;241;43m-\u001b[39;49m\u001b[43m \u001b[49m\u001b[38;5;241;43m34.654\u001b[39;49m\n\u001b[1;32m      2\u001b[0m \u001b[38;5;28mprint\u001b[39m (x)\n",
      "\u001b[0;31mTypeError\u001b[0m: unsupported operand type(s) for -: 'list' and 'float'"
     ]
    }
   ],
   "source": [
    "x = x - 34.654\n",
    "print (x)"
   ]
  },
  {
   "cell_type": "code",
   "execution_count": 33,
   "metadata": {},
   "outputs": [
    {
     "ename": "TypeError",
     "evalue": "unsupported operand type(s) for -: 'list' and 'list'",
     "output_type": "error",
     "traceback": [
      "\u001b[0;31m---------------------------------------------------------------------------\u001b[0m",
      "\u001b[0;31mTypeError\u001b[0m                                 Traceback (most recent call last)",
      "Cell \u001b[0;32mIn[33], line 1\u001b[0m\n\u001b[0;32m----> 1\u001b[0m x \u001b[38;5;241m=\u001b[39m \u001b[43mx\u001b[49m\u001b[43m \u001b[49m\u001b[38;5;241;43m-\u001b[39;49m\u001b[43m \u001b[49m\u001b[43m[\u001b[49m\u001b[38;5;241;43m34.654\u001b[39;49m\u001b[43m]\u001b[49m\n\u001b[1;32m      2\u001b[0m \u001b[38;5;28mprint\u001b[39m (x)\n",
      "\u001b[0;31mTypeError\u001b[0m: unsupported operand type(s) for -: 'list' and 'list'"
     ]
    }
   ],
   "source": [
    "x = x - [34.654]\n",
    "print (x)"
   ]
  },
  {
   "cell_type": "code",
   "execution_count": 34,
   "metadata": {},
   "outputs": [
    {
     "name": "stdout",
     "output_type": "stream",
     "text": [
      "['abc', 7.8, -3.4, 23, 'def', ['abc', 123], 'abc', 34.654]\n",
      "['abc', 7.8, -3.4, 'def', ['abc', 123], 'abc', 34.654]\n"
     ]
    }
   ],
   "source": [
    "print (x)\n",
    "del x[3]\n",
    "print (x)"
   ]
  },
  {
   "cell_type": "code",
   "execution_count": 35,
   "metadata": {},
   "outputs": [
    {
     "name": "stdout",
     "output_type": "stream",
     "text": [
      "['abc', 7.8, -3.4, 'def', ['abc', 123], 'abc', 34.654]\n",
      "[7.8, -3.4, 'def', ['abc', 123], 'abc', 34.654] abc\n"
     ]
    }
   ],
   "source": [
    "print (x)\n",
    "y = x.pop(0)\n",
    "print (x,y)"
   ]
  },
  {
   "cell_type": "code",
   "execution_count": 36,
   "metadata": {},
   "outputs": [
    {
     "name": "stdout",
     "output_type": "stream",
     "text": [
      "[7.8, -3.4, 'def', ['abc', 123], 'abc', 34.654, 'abc', 'abc', 'bcd', 'abc']\n",
      "[7.8, -3.4, 'def', ['abc', 123], 34.654, 'abc', 'abc', 'bcd', 'abc']\n"
     ]
    }
   ],
   "source": [
    "x = x + ['abc', 'abc', 'bcd', 'abc' ]\n",
    "print (x)\n",
    "x.remove('abc')\n",
    "print (x)"
   ]
  },
  {
   "cell_type": "code",
   "execution_count": 37,
   "metadata": {},
   "outputs": [
    {
     "name": "stdout",
     "output_type": "stream",
     "text": [
      "7\n"
     ]
    }
   ],
   "source": [
    "x = \"kalidas\"\n",
    "print (len(x))"
   ]
  },
  {
   "cell_type": "code",
   "execution_count": 38,
   "metadata": {},
   "outputs": [
    {
     "name": "stdout",
     "output_type": "stream",
     "text": [
      "i\n"
     ]
    }
   ],
   "source": [
    "print (x[3])"
   ]
  },
  {
   "cell_type": "code",
   "execution_count": 39,
   "metadata": {},
   "outputs": [
    {
     "name": "stdout",
     "output_type": "stream",
     "text": [
      "True\n"
     ]
    }
   ],
   "source": [
    "print(\"i\" in x)"
   ]
  },
  {
   "cell_type": "code",
   "execution_count": 40,
   "metadata": {},
   "outputs": [
    {
     "name": "stdout",
     "output_type": "stream",
     "text": [
      "True\n"
     ]
    }
   ],
   "source": [
    "print (\"id\" in x)"
   ]
  },
  {
   "cell_type": "code",
   "execution_count": 41,
   "metadata": {},
   "outputs": [
    {
     "name": "stdout",
     "output_type": "stream",
     "text": [
      "False\n"
     ]
    }
   ],
   "source": [
    "print (\"di\" in x)"
   ]
  },
  {
   "cell_type": "code",
   "execution_count": 42,
   "metadata": {},
   "outputs": [
    {
     "ename": "AttributeError",
     "evalue": "'str' object has no attribute 'append'",
     "output_type": "error",
     "traceback": [
      "\u001b[0;31m---------------------------------------------------------------------------\u001b[0m",
      "\u001b[0;31mAttributeError\u001b[0m                            Traceback (most recent call last)",
      "Cell \u001b[0;32mIn[42], line 2\u001b[0m\n\u001b[1;32m      1\u001b[0m x \u001b[38;5;241m=\u001b[39m \u001b[38;5;124m\"\u001b[39m\u001b[38;5;124mkalidas\u001b[39m\u001b[38;5;124m\"\u001b[39m\n\u001b[0;32m----> 2\u001b[0m \u001b[43mx\u001b[49m\u001b[38;5;241;43m.\u001b[39;49m\u001b[43mappend\u001b[49m(\u001b[38;5;124m\"\u001b[39m\u001b[38;5;124mabcdef\u001b[39m\u001b[38;5;124m\"\u001b[39m)\n\u001b[1;32m      3\u001b[0m \u001b[38;5;28mprint\u001b[39m (x)\n",
      "\u001b[0;31mAttributeError\u001b[0m: 'str' object has no attribute 'append'"
     ]
    }
   ],
   "source": [
    "x = \"kalidas\"\n",
    "x.append(\"abcdef\")\n",
    "print (x)"
   ]
  },
  {
   "cell_type": "code",
   "execution_count": 43,
   "metadata": {},
   "outputs": [
    {
     "name": "stdout",
     "output_type": "stream",
     "text": [
      "kalidasabcdef\n"
     ]
    }
   ],
   "source": [
    "x = \"kalidas\"\n",
    "x = x + \"abcdef\"\n",
    "print (x)"
   ]
  },
  {
   "cell_type": "code",
   "execution_count": 44,
   "metadata": {},
   "outputs": [
    {
     "name": "stdout",
     "output_type": "stream",
     "text": [
      "['abcdef', 12.45]\n"
     ]
    }
   ],
   "source": [
    "x = []\n",
    "x.append(\"abcdef\")\n",
    "x.append(12.45)\n",
    "print (x)"
   ]
  },
  {
   "cell_type": "code",
   "execution_count": 45,
   "metadata": {},
   "outputs": [
    {
     "name": "stdout",
     "output_type": "stream",
     "text": [
      "True\n"
     ]
    }
   ],
   "source": [
    "print (13 not in x)"
   ]
  },
  {
   "cell_type": "code",
   "execution_count": 46,
   "metadata": {},
   "outputs": [
    {
     "name": "stdout",
     "output_type": "stream",
     "text": [
      "True False True\n"
     ]
    }
   ],
   "source": [
    "print (12.45 in x, \"def\" in x, \"abcdef\" in x)"
   ]
  },
  {
   "cell_type": "code",
   "execution_count": 47,
   "metadata": {},
   "outputs": [
    {
     "name": "stdout",
     "output_type": "stream",
     "text": [
      "['kalidas', 'abcdef', 12.45, 'pqrst', 45] 5\n"
     ]
    }
   ],
   "source": [
    "x = ['kalidas','abcdef',12.45]\n",
    "y = ['pqrst', 45]\n",
    "x.extend(y)\n",
    "print (x, len(x))"
   ]
  },
  {
   "cell_type": "code",
   "execution_count": 48,
   "metadata": {},
   "outputs": [
    {
     "name": "stdout",
     "output_type": "stream",
     "text": [
      "['kalidas', 'abcdef', 12.45, ['pqrst', 45]] 4\n"
     ]
    }
   ],
   "source": [
    "x = ['kalidas','abcdef',12.45]\n",
    "y = ['pqrst', 45]\n",
    "x.append(y)\n",
    "print (x, len(x))"
   ]
  },
  {
   "cell_type": "code",
   "execution_count": 49,
   "metadata": {},
   "outputs": [
    {
     "name": "stdout",
     "output_type": "stream",
     "text": [
      "['kalidas', 'abcdef', 12.45, [...]] 4\n"
     ]
    }
   ],
   "source": [
    "x = ['kalidas','abcdef',12.45]\n",
    "x.append(x)\n",
    "print (x,len(x))"
   ]
  },
  {
   "cell_type": "code",
   "execution_count": 50,
   "metadata": {},
   "outputs": [
    {
     "name": "stdout",
     "output_type": "stream",
     "text": [
      "['kalidas', 'abcdef', 12.45, [...]]\n"
     ]
    }
   ],
   "source": [
    "print(x[-1][-1][-1][-1][-1][-1])"
   ]
  },
  {
   "cell_type": "code",
   "execution_count": 51,
   "metadata": {},
   "outputs": [
    {
     "name": "stdout",
     "output_type": "stream",
     "text": [
      "0\n",
      "1\n",
      "2\n"
     ]
    }
   ],
   "source": [
    "x = ['kalidas','abcdef',12.45, [12, 45.62, 'pqr']]\n",
    "print (x.index(\"kalidas\"))\n",
    "print (x.index(\"abcdef\"))\n",
    "print (x.index(12.45))"
   ]
  },
  {
   "cell_type": "code",
   "execution_count": 52,
   "metadata": {},
   "outputs": [
    {
     "ename": "ValueError",
     "evalue": "'12.45' is not in list",
     "output_type": "error",
     "traceback": [
      "\u001b[0;31m---------------------------------------------------------------------------\u001b[0m",
      "\u001b[0;31mValueError\u001b[0m                                Traceback (most recent call last)",
      "Cell \u001b[0;32mIn[52], line 2\u001b[0m\n\u001b[1;32m      1\u001b[0m x \u001b[38;5;241m=\u001b[39m [\u001b[38;5;124m'\u001b[39m\u001b[38;5;124mkalidas\u001b[39m\u001b[38;5;124m'\u001b[39m,\u001b[38;5;124m'\u001b[39m\u001b[38;5;124mabcdef\u001b[39m\u001b[38;5;124m'\u001b[39m,\u001b[38;5;241m12.45\u001b[39m, [\u001b[38;5;241m12\u001b[39m, \u001b[38;5;241m45.62\u001b[39m, \u001b[38;5;124m'\u001b[39m\u001b[38;5;124mpqr\u001b[39m\u001b[38;5;124m'\u001b[39m]]\n\u001b[0;32m----> 2\u001b[0m \u001b[38;5;28mprint\u001b[39m (\u001b[43mx\u001b[49m\u001b[38;5;241;43m.\u001b[39;49m\u001b[43mindex\u001b[49m\u001b[43m(\u001b[49m\u001b[38;5;124;43m\"\u001b[39;49m\u001b[38;5;124;43m12.45\u001b[39;49m\u001b[38;5;124;43m\"\u001b[39;49m\u001b[43m)\u001b[49m)\n",
      "\u001b[0;31mValueError\u001b[0m: '12.45' is not in list"
     ]
    }
   ],
   "source": [
    "x = ['kalidas','abcdef',12.45, [12, 45.62, 'pqr']]\n",
    "print (x.index(\"12.45\"))"
   ]
  },
  {
   "cell_type": "code",
   "execution_count": 53,
   "metadata": {},
   "outputs": [
    {
     "name": "stdout",
     "output_type": "stream",
     "text": [
      "3\n"
     ]
    }
   ],
   "source": [
    "x = ['kalidas','abcdef',12.45, [12, 45.62, 'pqr']]\n",
    "print (x.index([12, 45.62, 'pqr']))"
   ]
  },
  {
   "cell_type": "code",
   "execution_count": 54,
   "metadata": {},
   "outputs": [
    {
     "name": "stdout",
     "output_type": "stream",
     "text": [
      "['kalidas', 'abcdef', 12.45]\n",
      "[12.45, 'abcdef', 'kalidas']\n"
     ]
    },
    {
     "ename": "TypeError",
     "evalue": "'<' not supported between instances of 'str' and 'float'",
     "output_type": "error",
     "traceback": [
      "\u001b[0;31m---------------------------------------------------------------------------\u001b[0m",
      "\u001b[0;31mTypeError\u001b[0m                                 Traceback (most recent call last)",
      "Cell \u001b[0;32mIn[54], line 5\u001b[0m\n\u001b[1;32m      3\u001b[0m x\u001b[38;5;241m.\u001b[39mreverse()\n\u001b[1;32m      4\u001b[0m \u001b[38;5;28mprint\u001b[39m (x)\n\u001b[0;32m----> 5\u001b[0m \u001b[43mx\u001b[49m\u001b[38;5;241;43m.\u001b[39;49m\u001b[43msort\u001b[49m\u001b[43m(\u001b[49m\u001b[43m)\u001b[49m\n\u001b[1;32m      6\u001b[0m \u001b[38;5;28mprint\u001b[39m (x)\n",
      "\u001b[0;31mTypeError\u001b[0m: '<' not supported between instances of 'str' and 'float'"
     ]
    }
   ],
   "source": [
    "x = ['kalidas','abcdef',12.45]\n",
    "print (x)\n",
    "x.reverse()\n",
    "print (x)\n",
    "x.sort()\n",
    "print (x)"
   ]
  },
  {
   "cell_type": "code",
   "execution_count": 55,
   "metadata": {},
   "outputs": [
    {
     "name": "stdout",
     "output_type": "stream",
     "text": [
      "['kalidas', 'abcdef', '12.45']\n",
      "['12.45', 'abcdef', 'kalidas']\n"
     ]
    }
   ],
   "source": [
    "x = ['kalidas','abcdef',\"12.45\"]\n",
    "print (x)\n",
    "x.sort()\n",
    "print (x)"
   ]
  },
  {
   "cell_type": "code",
   "execution_count": 56,
   "metadata": {},
   "outputs": [
    {
     "name": "stdout",
     "output_type": "stream",
     "text": [
      "[3, 4]\n"
     ]
    }
   ],
   "source": [
    "x = [3,4]\n",
    "print (x)"
   ]
  },
  {
   "cell_type": "code",
   "execution_count": 57,
   "metadata": {},
   "outputs": [
    {
     "name": "stdout",
     "output_type": "stream",
     "text": [
      "3\n",
      "4\n"
     ]
    }
   ],
   "source": [
    "a,b = x\n",
    "print (a)\n",
    "print (b)"
   ]
  },
  {
   "cell_type": "code",
   "execution_count": 58,
   "metadata": {},
   "outputs": [
    {
     "name": "stdout",
     "output_type": "stream",
     "text": [
      "3 4\n",
      "4 3\n"
     ]
    }
   ],
   "source": [
    "a,b = [3,4]\n",
    "print (a,b)\n",
    "a,b = [b,a]\n",
    "print (a,b)"
   ]
  },
  {
   "cell_type": "code",
   "execution_count": 59,
   "metadata": {},
   "outputs": [
    {
     "name": "stdout",
     "output_type": "stream",
     "text": [
      "['abcd', [3, 4, 'kali']]\n",
      "['abcd', 3, 4, 'kali']\n"
     ]
    }
   ],
   "source": [
    "x = [3, 4, \"kali\"]\n",
    "y = [ \"abcd\", x]\n",
    "print (y)\n",
    "y = [ \"abcd\",\n",
    "*x]\n",
    "print (y)"
   ]
  },
  {
   "cell_type": "code",
   "execution_count": 60,
   "metadata": {},
   "outputs": [
    {
     "name": "stdout",
     "output_type": "stream",
     "text": [
      "['k', 'a', 'l', 'i', 'd', 'a', 's']\n"
     ]
    }
   ],
   "source": [
    "x = \"kalidas\"\n",
    "y = list(x)\n",
    "print (y)"
   ]
  },
  {
   "cell_type": "code",
   "execution_count": 61,
   "metadata": {},
   "outputs": [
    {
     "name": "stdout",
     "output_type": "stream",
     "text": [
      "True\n"
     ]
    }
   ],
   "source": [
    "x = [3,4]\n",
    "y = [3,4]\n",
    "print (x==y)"
   ]
  },
  {
   "cell_type": "code",
   "execution_count": 62,
   "metadata": {},
   "outputs": [
    {
     "name": "stdout",
     "output_type": "stream",
     "text": [
      "True\n"
     ]
    }
   ],
   "source": [
    "x = [3,4]\n",
    "y = [4,1]\n",
    "print (x < y)"
   ]
  },
  {
   "cell_type": "code",
   "execution_count": 63,
   "metadata": {},
   "outputs": [
    {
     "name": "stdout",
     "output_type": "stream",
     "text": [
      "False\n"
     ]
    }
   ],
   "source": [
    "x = [3,4]\n",
    "y = [4,1]\n",
    "print (x > y)"
   ]
  },
  {
   "cell_type": "code",
   "execution_count": 64,
   "metadata": {},
   "outputs": [
    {
     "name": "stdout",
     "output_type": "stream",
     "text": [
      "True\n"
     ]
    }
   ],
   "source": [
    "x = [3,4]\n",
    "y = x\n",
    "print (x == y)"
   ]
  },
  {
   "cell_type": "code",
   "execution_count": 65,
   "metadata": {},
   "outputs": [
    {
     "name": "stdout",
     "output_type": "stream",
     "text": [
      "False\n"
     ]
    }
   ],
   "source": [
    "x = [3, 4]\n",
    "\n",
    "\n",
    "y = [3, 4]\n",
    "print (x is y)"
   ]
  },
  {
   "cell_type": "code",
   "execution_count": 66,
   "metadata": {},
   "outputs": [
    {
     "name": "stdout",
     "output_type": "stream",
     "text": [
      "True\n"
     ]
    }
   ],
   "source": [
    "x = [3, 4]\n",
    "y = x\n",
    "print (x is y)"
   ]
  },
  {
   "cell_type": "code",
   "execution_count": 68,
   "metadata": {},
   "outputs": [
    {
     "name": "stdout",
     "output_type": "stream",
     "text": [
      "yes\n"
     ]
    }
   ],
   "source": [
    "i = 3\n",
    "if i == 3 :\n",
    "    print('yes')\n",
    "\n",
    "else :\n",
    "    print('No')\n",
    "# print (\"no\")"
   ]
  },
  {
   "cell_type": "code",
   "execution_count": 69,
   "metadata": {},
   "outputs": [
    {
     "name": "stdout",
     "output_type": "stream",
     "text": [
      "none\n"
     ]
    }
   ],
   "source": [
    "i = 4\n",
    "if i == 1 :\n",
    "    print (\"one\")\n",
    "elif i == 2 :\n",
    "    print (\"two\")\n",
    "elif i == 3 :\n",
    "    print (\"three\")\n",
    "else :\n",
    "    print (\"none\")"
   ]
  },
  {
   "cell_type": "code",
   "execution_count": 70,
   "metadata": {},
   "outputs": [
    {
     "name": "stdout",
     "output_type": "stream",
     "text": [
      "yes\n"
     ]
    }
   ],
   "source": [
    "i = \"abc\"\n",
    "if i == \"abc\" :\n",
    "    print (\"yes\")\n",
    "else :\n",
    "    print (\"no\")"
   ]
  },
  {
   "cell_type": "code",
   "execution_count": 71,
   "metadata": {},
   "outputs": [
    {
     "name": "stdout",
     "output_type": "stream",
     "text": [
      "yes\n"
     ]
    }
   ],
   "source": [
    "i = \"abc\"\n",
    "if i == \"abc\" :\n",
    "    print (\"yes\")"
   ]
  },
  {
   "cell_type": "code",
   "execution_count": 72,
   "metadata": {},
   "outputs": [
    {
     "name": "stdout",
     "output_type": "stream",
     "text": [
      "yes\n"
     ]
    }
   ],
   "source": [
    "i = \"abc\"\n",
    "if i < \"bcd\" :\n",
    "    print (\"yes\")\n",
    "else :\n",
    "    print (\"no\")"
   ]
  },
  {
   "cell_type": "code",
   "execution_count": 73,
   "metadata": {},
   "outputs": [
    {
     "name": "stdout",
     "output_type": "stream",
     "text": [
      "yes\n"
     ]
    }
   ],
   "source": [
    "x = [\"abc\", 123, 23.45, -300]\n",
    "if \"abc\" in x :\n",
    "    print (\"yes\")\n",
    "else :\n",
    "    print (\"no\")"
   ]
  },
  {
   "cell_type": "code",
   "execution_count": 74,
   "metadata": {},
   "outputs": [
    {
     "name": "stdout",
     "output_type": "stream",
     "text": [
      "true\n"
     ]
    }
   ],
   "source": [
    "if True :\n",
    "    print (\"true\")"
   ]
  },
  {
   "cell_type": "code",
   "execution_count": 75,
   "metadata": {},
   "outputs": [
    {
     "name": "stdout",
     "output_type": "stream",
     "text": [
      "yes\n"
     ]
    }
   ],
   "source": [
    "if 1 < 3 : print (\"yes\")"
   ]
  },
  {
   "cell_type": "code",
   "execution_count": 76,
   "metadata": {},
   "outputs": [
    {
     "name": "stdout",
     "output_type": "stream",
     "text": [
      "no\n"
     ]
    }
   ],
   "source": [
    "print (\"yes\") if 4 < 3 else print (\"no\")"
   ]
  },
  {
   "cell_type": "code",
   "execution_count": 77,
   "metadata": {},
   "outputs": [
    {
     "name": "stdout",
     "output_type": "stream",
     "text": [
      "5\n",
      "4\n",
      "3\n",
      "2\n",
      "1\n"
     ]
    }
   ],
   "source": [
    "i = 3\n",
    "n = 5\n",
    "while n > 0 :\n",
    "    print (n)\n",
    "    n = n - 1\n",
    "    i = 1\n",
    "    i = 3"
   ]
  },
  {
   "cell_type": "code",
   "execution_count": 79,
   "metadata": {},
   "outputs": [
    {
     "name": "stdout",
     "output_type": "stream",
     "text": [
      "10\n",
      "19\n",
      "27\n",
      "34\n",
      "40\n",
      "45\n",
      "49\n",
      "52\n",
      "54\n",
      "55\n"
     ]
    }
   ],
   "source": [
    "mysum = 0\n",
    "n = 10\n",
    "while n > 0 :\n",
    "    mysum = mysum + n\n",
    "    n = n - 1\n",
    "    #\n",
    "    #\n",
    "    #\n",
    "    print (mysum)"
   ]
  },
  {
   "cell_type": "code",
   "execution_count": 81,
   "metadata": {},
   "outputs": [
    {
     "name": "stdout",
     "output_type": "stream",
     "text": [
      "5\n",
      "4\n"
     ]
    }
   ],
   "source": [
    "i = 3\n",
    "n = 5\n",
    "while n > 0 :\n",
    "    if n == i :\n",
    "        break\n",
    "\n",
    "    print (n)\n",
    "    n = n - 1"
   ]
  },
  {
   "cell_type": "code",
   "execution_count": 82,
   "metadata": {},
   "outputs": [
    {
     "name": "stdout",
     "output_type": "stream",
     "text": [
      "5\n",
      "4\n",
      "this is outside\n"
     ]
    }
   ],
   "source": [
    "i = 3\n",
    "n = 5\n",
    "while n > 0 :\n",
    "    if n <= i :\n",
    "        n = n -1 #try without this\n",
    "        continue\n",
    "    print (n)\n",
    "    n = n - 1\n",
    "print (\"this is outside\")"
   ]
  },
  {
   "cell_type": "code",
   "execution_count": 83,
   "metadata": {},
   "outputs": [
    {
     "name": "stdout",
     "output_type": "stream",
     "text": [
      "['abc', 'def', 12.3, 45.21, -800]\n",
      "['def', 12.3, 45.21, -800]\n",
      "[12.3, 45.21, -800]\n",
      "[45.21, -800]\n",
      "[-800]\n",
      "[]\n"
     ]
    }
   ],
   "source": [
    "x = [\"abc\", \"def\", 12.3, 45.21, -800]\n",
    "while len(x) > 0 :\n",
    "    print (x)\n",
    "    del x[0]\n",
    "print (x)"
   ]
  },
  {
   "cell_type": "code",
   "execution_count": 84,
   "metadata": {},
   "outputs": [
    {
     "name": "stdout",
     "output_type": "stream",
     "text": [
      "abc\n",
      "def\n",
      "12.3\n",
      "45.21\n",
      "-800\n"
     ]
    }
   ],
   "source": [
    "x = [\"abc\", \"def\", 12.3, 45.21, -800]\n",
    "for ele in x :\n",
    "    print (ele)"
   ]
  },
  {
   "cell_type": "code",
   "execution_count": 85,
   "metadata": {},
   "outputs": [
    {
     "name": "stdout",
     "output_type": "stream",
     "text": [
      "before removal: abc ['abc', 'abc', 'def', 12.3, 45.21, 'abcd', -800, 23, 'kalidas']\n",
      "after removal: abc ['abc', 'def', 12.3, 45.21, 'abcd', -800, 23, 'kalidas']\n",
      "before removal: def ['abc', 'def', 12.3, 45.21, 'abcd', -800, 23, 'kalidas']\n",
      "after removal: def ['abc', 12.3, 45.21, 'abcd', -800, 23, 'kalidas']\n",
      "before removal: 45.21 ['abc', 12.3, 45.21, 'abcd', -800, 23, 'kalidas']\n",
      "after removal: 45.21 ['abc', 12.3, 'abcd', -800, 23, 'kalidas']\n",
      "before removal: -800 ['abc', 12.3, 'abcd', -800, 23, 'kalidas']\n",
      "after removal: -800 ['abc', 12.3, 'abcd', 23, 'kalidas']\n",
      "before removal: kalidas ['abc', 12.3, 'abcd', 23, 'kalidas']\n",
      "after removal: kalidas ['abc', 12.3, 'abcd', 23]\n",
      "final list: ['abc', 12.3, 'abcd', 23]\n"
     ]
    }
   ],
   "source": [
    "x = [\"abc\", \"abc\", \"def\", 12.3, 45.21, 'abcd', -800, 23, 'kalidas']\n",
    "for ele in x :\n",
    "    print ('before removal:',ele, x)\n",
    "    x.remove(ele)\n",
    "    print ('after removal:',ele, x)\n",
    "print ('final list:', x)"
   ]
  },
  {
   "cell_type": "code",
   "execution_count": 86,
   "metadata": {},
   "outputs": [
    {
     "name": "stdout",
     "output_type": "stream",
     "text": [
      "64\n"
     ]
    }
   ],
   "source": [
    "x=[1,234,5,5,65,3,23,3]\n",
    "pairs_list = []\n",
    "for elem1 in x :\n",
    "    for elem2 in x :\n",
    "        pairs_list.append( (elem1,elem2) )\n",
    "print (len(pairs_list))"
   ]
  },
  {
   "cell_type": "code",
   "execution_count": 87,
   "metadata": {},
   "outputs": [
    {
     "name": "stdout",
     "output_type": "stream",
     "text": [
      "[1, 234, 5, 5, 65, 3, 23, 3]\n",
      "False\n",
      "True\n"
     ]
    }
   ],
   "source": [
    "x2 = [z for z in x]\n",
    "print (x2)\n",
    "print (x2 is x)\n",
    "print (x2 == x)"
   ]
  },
  {
   "cell_type": "code",
   "execution_count": 89,
   "metadata": {},
   "outputs": [
    {
     "name": "stdout",
     "output_type": "stream",
     "text": [
      "[0, 1, 2, 3, 4, 5]\n",
      "15\n"
     ]
    }
   ],
   "source": [
    "x = [\"abc\", \"abc\", \"def\", 12.3, 45.21, -800]\n",
    "pair_list = []\n",
    "print ([z for z in range(0,len(x))])\n",
    "for i in range(0, len(x) ) :\n",
    "    for j in range(i+1, len(x)) :\n",
    "        pair_list.append( (x[i],x[j]) )\n",
    "print (len(pair_list))"
   ]
  },
  {
   "cell_type": "code",
   "execution_count": 90,
   "metadata": {},
   "outputs": [
    {
     "name": "stdout",
     "output_type": "stream",
     "text": [
      "and\n",
      "or\n"
     ]
    }
   ],
   "source": [
    "i = 1\n",
    "j = 3\n",
    "if i==1 and j==3 :\n",
    "    print (\"and\")\n",
    "if i==1 or j==4 :\n",
    "    print (\"or\")\n",
    "if i==2 or j==4 :\n",
    "    print (\"or 2\")"
   ]
  },
  {
   "cell_type": "code",
   "execution_count": 91,
   "metadata": {},
   "outputs": [
    {
     "name": "stdout",
     "output_type": "stream",
     "text": [
      "1 3 1 True 1\n",
      "3 0 0 1 True\n"
     ]
    }
   ],
   "source": [
    "i = 1\n",
    "j = 3\n",
    "k = 0\n",
    "print (i or j, j or i, k or i, not k or i, not j or i)\n",
    "print (i and j, k and i, j and k, not k and i, i and not k)"
   ]
  },
  {
   "cell_type": "code",
   "execution_count": 92,
   "metadata": {},
   "outputs": [
    {
     "name": "stdout",
     "output_type": "stream",
     "text": [
      "kali\n"
     ]
    }
   ],
   "source": [
    "fh = open(\"kalidas.txt\",\"w\")\n",
    "fh.write(\"kali\")\n",
    "fh.close()\n",
    "\n",
    "fh = open(\"kalidas.txt\",\"r\")\n",
    "x = fh.read()\n",
    "print (x)"
   ]
  },
  {
   "cell_type": "code",
   "execution_count": 93,
   "metadata": {},
   "outputs": [
    {
     "ename": "TypeError",
     "evalue": "write() argument must be str, not list",
     "output_type": "error",
     "traceback": [
      "\u001b[0;31m---------------------------------------------------------------------------\u001b[0m",
      "\u001b[0;31mTypeError\u001b[0m                                 Traceback (most recent call last)",
      "Cell \u001b[0;32mIn[93], line 3\u001b[0m\n\u001b[1;32m      1\u001b[0m fh \u001b[38;5;241m=\u001b[39m \u001b[38;5;28mopen\u001b[39m(\u001b[38;5;124m\"\u001b[39m\u001b[38;5;124mkalidas.txt\u001b[39m\u001b[38;5;124m\"\u001b[39m,\u001b[38;5;124m\"\u001b[39m\u001b[38;5;124mw\u001b[39m\u001b[38;5;124m\"\u001b[39m)\n\u001b[1;32m      2\u001b[0m x \u001b[38;5;241m=\u001b[39m [\u001b[38;5;124m\"\u001b[39m\u001b[38;5;124mabc\u001b[39m\u001b[38;5;124m\"\u001b[39m, \u001b[38;5;241m23.4\u001b[39m, \u001b[38;5;241m-\u001b[39m\u001b[38;5;241m800\u001b[39m]\n\u001b[0;32m----> 3\u001b[0m \u001b[43mfh\u001b[49m\u001b[38;5;241;43m.\u001b[39;49m\u001b[43mwrite\u001b[49m\u001b[43m(\u001b[49m\u001b[43mx\u001b[49m\u001b[43m)\u001b[49m\n\u001b[1;32m      4\u001b[0m fh\u001b[38;5;241m.\u001b[39mclose()\n",
      "\u001b[0;31mTypeError\u001b[0m: write() argument must be str, not list"
     ]
    }
   ],
   "source": [
    "fh = open(\"kalidas.txt\",\"w\")\n",
    "x = [\"abc\", 23.4, -800]\n",
    "fh.write(x)\n",
    "fh.close()"
   ]
  },
  {
   "cell_type": "code",
   "execution_count": 94,
   "metadata": {},
   "outputs": [],
   "source": [
    "import json\n",
    "x = [\"abc\", 23.4, -800]\n",
    "fh = open(\"kalidas.txt\",\"w\")\n",
    "json.dump(x,fh)\n",
    "fh.close()"
   ]
  },
  {
   "cell_type": "code",
   "execution_count": 95,
   "metadata": {},
   "outputs": [
    {
     "name": "stdout",
     "output_type": "stream",
     "text": [
      "['abc', 23.4, -800]\n"
     ]
    }
   ],
   "source": [
    "import json\n",
    "fh = open(\"kalidas.txt\",\"r\")\n",
    "y = json.load(fh)\n",
    "fh.close()\n",
    "print (y)"
   ]
  },
  {
   "cell_type": "code",
   "execution_count": 96,
   "metadata": {},
   "outputs": [
    {
     "name": "stdout",
     "output_type": "stream",
     "text": [
      "['abc', 23.4, -800]\n"
     ]
    }
   ],
   "source": [
    "import json\n",
    "fh = open(\"kalidas.txt\",\"r\")\n",
    "y = json.load(fh)\n",
    "fh.close()\n",
    "print (y)"
   ]
  },
  {
   "cell_type": "code",
   "execution_count": 97,
   "metadata": {},
   "outputs": [
    {
     "name": "stdout",
     "output_type": "stream",
     "text": [
      "{1, 2, 3, 'kali', 'kalidas'}\n"
     ]
    }
   ],
   "source": [
    "x = set([1,2,3, 1, 1, 1, \"kalidas\", \"kali\"])\n",
    "print (x)"
   ]
  },
  {
   "cell_type": "code",
   "execution_count": 98,
   "metadata": {},
   "outputs": [
    {
     "name": "stdout",
     "output_type": "stream",
     "text": [
      "{1, 2, 3, 'kali'}\n"
     ]
    }
   ],
   "source": [
    "x = {1,2,3,\"kali\"}\n",
    "print (x)"
   ]
  },
  {
   "cell_type": "code",
   "execution_count": 99,
   "metadata": {},
   "outputs": [
    {
     "name": "stdout",
     "output_type": "stream",
     "text": [
      "before {1, 2, 3, 'kali'}\n"
     ]
    }
   ],
   "source": [
    "x = {1,2,3,\"kali\"}\n",
    "print ('before', x)\n",
    "x.add('pqrst')\n",
    "x.add(3.141234)\n",
    "x.add(1)\n",
    "x.add(2)"
   ]
  },
  {
   "cell_type": "code",
   "execution_count": 100,
   "metadata": {},
   "outputs": [
    {
     "name": "stdout",
     "output_type": "stream",
     "text": [
      "{2, 3.141234, 3, 'kali', 'pqrst'}\n"
     ]
    }
   ],
   "source": [
    "x = {1, 2, 3, 3.141234, 'kali', 'pqrst'}\n",
    "x.remove(1)\n",
    "print (x)"
   ]
  },
  {
   "cell_type": "code",
   "execution_count": 101,
   "metadata": {},
   "outputs": [
    {
     "ename": "KeyError",
     "evalue": "4",
     "output_type": "error",
     "traceback": [
      "\u001b[0;31m---------------------------------------------------------------------------\u001b[0m",
      "\u001b[0;31mKeyError\u001b[0m                                  Traceback (most recent call last)",
      "Cell \u001b[0;32mIn[101], line 2\u001b[0m\n\u001b[1;32m      1\u001b[0m x \u001b[38;5;241m=\u001b[39m {\u001b[38;5;241m1\u001b[39m, \u001b[38;5;241m2\u001b[39m, \u001b[38;5;241m3\u001b[39m, \u001b[38;5;241m3.141234\u001b[39m, \u001b[38;5;124m'\u001b[39m\u001b[38;5;124mkali\u001b[39m\u001b[38;5;124m'\u001b[39m, \u001b[38;5;124m'\u001b[39m\u001b[38;5;124mpqrst\u001b[39m\u001b[38;5;124m'\u001b[39m}\n\u001b[0;32m----> 2\u001b[0m \u001b[43mx\u001b[49m\u001b[38;5;241;43m.\u001b[39;49m\u001b[43mremove\u001b[49m\u001b[43m(\u001b[49m\u001b[38;5;241;43m4\u001b[39;49m\u001b[43m)\u001b[49m\n\u001b[1;32m      3\u001b[0m \u001b[38;5;28mprint\u001b[39m (x)\n",
      "\u001b[0;31mKeyError\u001b[0m: 4"
     ]
    }
   ],
   "source": [
    "x = {1, 2, 3, 3.141234, 'kali', 'pqrst'}\n",
    "x.remove(4)\n",
    "print (x)"
   ]
  },
  {
   "cell_type": "code",
   "execution_count": 102,
   "metadata": {},
   "outputs": [
    {
     "ename": "TypeError",
     "evalue": "'set' object doesn't support item deletion",
     "output_type": "error",
     "traceback": [
      "\u001b[0;31m---------------------------------------------------------------------------\u001b[0m",
      "\u001b[0;31mTypeError\u001b[0m                                 Traceback (most recent call last)",
      "Cell \u001b[0;32mIn[102], line 2\u001b[0m\n\u001b[1;32m      1\u001b[0m x \u001b[38;5;241m=\u001b[39m {\u001b[38;5;241m1\u001b[39m, \u001b[38;5;241m2\u001b[39m, \u001b[38;5;241m3\u001b[39m, \u001b[38;5;241m3.141234\u001b[39m, \u001b[38;5;124m'\u001b[39m\u001b[38;5;124mkali\u001b[39m\u001b[38;5;124m'\u001b[39m, \u001b[38;5;124m'\u001b[39m\u001b[38;5;124mpqrst\u001b[39m\u001b[38;5;124m'\u001b[39m}\n\u001b[0;32m----> 2\u001b[0m \u001b[38;5;28;01mdel\u001b[39;00m \u001b[43mx\u001b[49m\u001b[43m[\u001b[49m\u001b[38;5;241;43m0\u001b[39;49m\u001b[43m]\u001b[49m\n",
      "\u001b[0;31mTypeError\u001b[0m: 'set' object doesn't support item deletion"
     ]
    }
   ],
   "source": [
    "x = {1, 2, 3, 3.141234, 'kali', 'pqrst'}\n",
    "del x[0]"
   ]
  },
  {
   "cell_type": "code",
   "execution_count": 103,
   "metadata": {},
   "outputs": [
    {
     "name": "stdout",
     "output_type": "stream",
     "text": [
      "{1, 2, 3.141234, 3, 'kali', 'pqrst'}\n"
     ]
    }
   ],
   "source": [
    "x = {1, 2, 3, 3.141234, 'kali', 'pqrst'}\n",
    "x.discard(4)\n",
    "print (x)"
   ]
  },
  {
   "cell_type": "code",
   "execution_count": 104,
   "metadata": {},
   "outputs": [
    {
     "name": "stdout",
     "output_type": "stream",
     "text": [
      "{2, 3}\n",
      "{1} {4}\n",
      "{1, 2, 3, 4}\n",
      "{1, 4}\n",
      "False True\n",
      "True\n"
     ]
    }
   ],
   "source": [
    "x = {1,2,3}\n",
    "y = {2,3,4}\n",
    "z = {5,6,7,8}\n",
    "x2 = x.union({5,\"kali\",'das'})\n",
    "print (x.intersection(y))\n",
    "print (x.difference(y), y.difference(x))\n",
    "print (x.union(y))\n",
    "print (x.symmetric_difference(y))\n",
    "print (x.isdisjoint(y), x.isdisjoint(z))\n",
    "print (x.issubset(x2))"
   ]
  },
  {
   "cell_type": "code",
   "execution_count": 105,
   "metadata": {},
   "outputs": [
    {
     "name": "stdout",
     "output_type": "stream",
     "text": [
      "{'abc': 11, 'bcd': -3.4, 'cdef': 'kalidas'}\n"
     ]
    }
   ],
   "source": [
    "x = {'abc': 11, 'bcd' : -3.4, 'cdef': \"kalidas\"}\n",
    "print (x)"
   ]
  },
  {
   "cell_type": "code",
   "execution_count": 106,
   "metadata": {},
   "outputs": [
    {
     "name": "stdout",
     "output_type": "stream",
     "text": [
      "11 kalidas\n",
      "-3.4\n",
      "-3.4\n"
     ]
    }
   ],
   "source": [
    "x = {'abc': 11, 'bcd' : -3.4, 'cdef': \"kalidas\"}\n",
    "print (x['abc'], x['cdef'])\n",
    "key='bcd'\n",
    "print (x[key])\n",
    "print (x.get(key))"
   ]
  },
  {
   "cell_type": "code",
   "execution_count": 107,
   "metadata": {},
   "outputs": [
    {
     "name": "stdout",
     "output_type": "stream",
     "text": [
      "{'abc': 34, 'bcd': -3.4, 'cdef': 'kalidas'}\n"
     ]
    }
   ],
   "source": [
    "x = {'abc': 11, 'bcd' : -3.4, 'cdef': \"kalidas\"}\n",
    "x['abc'] = 34\n",
    "print (x)"
   ]
  },
  {
   "cell_type": "code",
   "execution_count": 109,
   "metadata": {},
   "outputs": [
    {
     "name": "stdout",
     "output_type": "stream",
     "text": [
      "abc\n",
      "bcd\n",
      "cdef\n"
     ]
    }
   ],
   "source": [
    "x = {'abc': 11, 'bcd' : -3.4, 'cdef': \"kalidas\"}\n",
    "for ele in x :\n",
    "    print (ele)"
   ]
  },
  {
   "cell_type": "code",
   "execution_count": 110,
   "metadata": {},
   "outputs": [
    {
     "name": "stdout",
     "output_type": "stream",
     "text": [
      "11\n",
      "-3.4\n",
      "kalidas\n"
     ]
    }
   ],
   "source": [
    "x = {'abc': 11, 'bcd' : -3.4, 'cdef': \"kalidas\"}\n",
    "for val in x.values() :\n",
    "    print (val)"
   ]
  },
  {
   "cell_type": "code",
   "execution_count": 111,
   "metadata": {},
   "outputs": [
    {
     "name": "stdout",
     "output_type": "stream",
     "text": [
      "key abc val 11\n",
      "key bcd val -3.4\n",
      "key cdef val kalidas\n"
     ]
    }
   ],
   "source": [
    "for k,v in x.items() :\n",
    "    print ('key',k,'val',v)"
   ]
  },
  {
   "cell_type": "code",
   "execution_count": 112,
   "metadata": {},
   "outputs": [
    {
     "name": "stdout",
     "output_type": "stream",
     "text": [
      "4 {'abc': 23, 'bcd': -3.4, 'cdef': 'kalidas', 'pqrst': 11}\n"
     ]
    }
   ],
   "source": [
    "x = {'abc': 11, 'bcd' : -3.4, 'cdef': \"kalidas\", 'pqrst' : 11, 'abc': 23}\n",
    "print (len(x), x)"
   ]
  },
  {
   "cell_type": "code",
   "execution_count": 113,
   "metadata": {},
   "outputs": [
    {
     "name": "stdout",
     "output_type": "stream",
     "text": [
      "{'abc': 23, 'bcd': -3.4, 'cdef': 'kalidas', 'pqrst': 11, 'another': -900}\n"
     ]
    }
   ],
   "source": [
    "x = {'abc': 11, 'bcd' : -3.4, 'cdef': \"kalidas\", 'pqrst' : 11, 'abc': 23}\n",
    "x['another'] = -900\n",
    "print (x)"
   ]
  },
  {
   "cell_type": "code",
   "execution_count": 114,
   "metadata": {},
   "outputs": [
    {
     "name": "stdout",
     "output_type": "stream",
     "text": [
      "-3.4 {'abc': 23, 'cdef': 'kalidas', 'pqrst': 11}\n"
     ]
    }
   ],
   "source": [
    "x = {'abc': 11, 'bcd' : -3.4, 'cdef': \"kalidas\", 'pqrst' : 11, 'abc': 23}\n",
    "z = x.pop('bcd')\n",
    "print (z, x)"
   ]
  },
  {
   "cell_type": "code",
   "execution_count": 115,
   "metadata": {},
   "outputs": [
    {
     "ename": "AttributeError",
     "evalue": "'dict' object has no attribute 'remove'",
     "output_type": "error",
     "traceback": [
      "\u001b[0;31m---------------------------------------------------------------------------\u001b[0m",
      "\u001b[0;31mAttributeError\u001b[0m                            Traceback (most recent call last)",
      "Cell \u001b[0;32mIn[115], line 2\u001b[0m\n\u001b[1;32m      1\u001b[0m x \u001b[38;5;241m=\u001b[39m {\u001b[38;5;124m'\u001b[39m\u001b[38;5;124mabc\u001b[39m\u001b[38;5;124m'\u001b[39m: \u001b[38;5;241m11\u001b[39m, \u001b[38;5;124m'\u001b[39m\u001b[38;5;124mbcd\u001b[39m\u001b[38;5;124m'\u001b[39m : \u001b[38;5;241m-\u001b[39m\u001b[38;5;241m3.4\u001b[39m, \u001b[38;5;124m'\u001b[39m\u001b[38;5;124mcdef\u001b[39m\u001b[38;5;124m'\u001b[39m: \u001b[38;5;124m\"\u001b[39m\u001b[38;5;124mkalidas\u001b[39m\u001b[38;5;124m\"\u001b[39m, \u001b[38;5;124m'\u001b[39m\u001b[38;5;124mpqrst\u001b[39m\u001b[38;5;124m'\u001b[39m : \u001b[38;5;241m11\u001b[39m, \u001b[38;5;124m'\u001b[39m\u001b[38;5;124mabc\u001b[39m\u001b[38;5;124m'\u001b[39m: \u001b[38;5;241m23\u001b[39m}\n\u001b[0;32m----> 2\u001b[0m z \u001b[38;5;241m=\u001b[39m \u001b[43mx\u001b[49m\u001b[38;5;241;43m.\u001b[39;49m\u001b[43mremove\u001b[49m(\u001b[38;5;124m'\u001b[39m\u001b[38;5;124mbcd\u001b[39m\u001b[38;5;124m'\u001b[39m)\n\u001b[1;32m      3\u001b[0m \u001b[38;5;28mprint\u001b[39m (z, x)\n",
      "\u001b[0;31mAttributeError\u001b[0m: 'dict' object has no attribute 'remove'"
     ]
    }
   ],
   "source": [
    "x = {'abc': 11, 'bcd' : -3.4, 'cdef': \"kalidas\", 'pqrst' : 11, 'abc': 23}\n",
    "z = x.remove('bcd')\n",
    "print (z, x)"
   ]
  },
  {
   "cell_type": "code",
   "execution_count": 116,
   "metadata": {},
   "outputs": [
    {
     "name": "stdout",
     "output_type": "stream",
     "text": [
      "{'abc': 23, 'cdef': 'kalidas', 'pqrst': 11}\n"
     ]
    }
   ],
   "source": [
    "x = {'abc': 11, 'bcd' : -3.4, 'cdef': \"kalidas\", 'pqrst' : 11, 'abc': 23}\n",
    "del x['bcd']\n",
    "print (x)"
   ]
  },
  {
   "cell_type": "code",
   "execution_count": 117,
   "metadata": {},
   "outputs": [
    {
     "name": "stdout",
     "output_type": "stream",
     "text": [
      "{}\n"
     ]
    }
   ],
   "source": [
    "x = {'abc': 11, 'bcd' : -3.4, 'cdef': \"kalidas\", 'pqrst' : 11, 'abc': 23}\n",
    "x.clear()\n",
    "print (x)"
   ]
  },
  {
   "cell_type": "code",
   "execution_count": 118,
   "metadata": {},
   "outputs": [
    {
     "name": "stdout",
     "output_type": "stream",
     "text": [
      "{'abc': 23, 'bcd': -3.4, 'cdef': 'kalidas', 'pqrst': 11, 'another': -900}\n",
      "{'abc': 23, 'bcd': -3.4, 'cdef': 'kalidas', 'pqrst': 11, 'another': -900}\n"
     ]
    }
   ],
   "source": [
    "x = {'abc': 11, 'bcd' : -3.4, 'cdef': \"kalidas\", 'pqrst' : 11, 'abc': 23}\n",
    "y = x\n",
    "y['another'] = -900\n",
    "print (x)\n",
    "print (y)"
   ]
  },
  {
   "cell_type": "code",
   "execution_count": 119,
   "metadata": {},
   "outputs": [
    {
     "name": "stdout",
     "output_type": "stream",
     "text": [
      "{\"abc\": 23, \"bcd\": -3.4, \"cdef\": \"kalidas\", \"pqrst\": 11, \"submap1\": {\"abc\": 11, \"bcd\": -3.4, \"subsubmap\": {\"abc\": 11, \"bcd\": -3.4, \"cdef\": \"kalidas\"}}}"
     ]
    }
   ],
   "source": [
    "x = {'abc': 11, 'bcd' : -3.4, 'cdef': \"kalidas\", 'pqrst' : 11, 'abc': 23,\n",
    "'submap1' : {'abc': 11, 'bcd' : -3.4,\n",
    "'subsubmap': {'abc': 11, 'bcd' : -3.4, 'cdef': \"kalidas\"} } }\n",
    "import json\n",
    "fh = open('kalidas.txt','w')\n",
    "json.dump(x,fh)\n",
    "fh.close()\n",
    "!cat kalidas.txt"
   ]
  },
  {
   "cell_type": "code",
   "execution_count": 120,
   "metadata": {},
   "outputs": [
    {
     "name": "stdout",
     "output_type": "stream",
     "text": [
      "{'abc': 23, 'bcd': -3.4, 'cdef': 'kalidas', 'pqrst': 11, 'submap1': {'abc': 11, 'bcd': -3.4, 'subsubmap': {'abc': 11, 'bcd': -3.4, 'cdef': 'kalidas'}}}\n"
     ]
    }
   ],
   "source": [
    "import json\n",
    "fh = open('kalidas.txt','r')\n",
    "x2 = json.load(fh)\n",
    "fh.close()\n",
    "print(x2)"
   ]
  },
  {
   "cell_type": "code",
   "execution_count": 121,
   "metadata": {},
   "outputs": [
    {
     "name": "stdout",
     "output_type": "stream",
     "text": [
      "{'abc': 23, 'bcd': -3.4, 'cdef': 'kalidas', 'pqrst': 11}\n",
      "{'abc': 23, 'bcd': -3.4, 'cdef': 'kalidas', 'pqrst': 11, 'another': -900}\n"
     ]
    }
   ],
   "source": [
    "x = {'abc': 11, 'bcd' : -3.4, 'cdef': \"kalidas\", 'pqrst' : 11, 'abc': 23}\n",
    "y = x.copy()\n",
    "y['another'] = -900\n",
    "print (x)\n",
    "print (y)"
   ]
  },
  {
   "cell_type": "code",
   "execution_count": 122,
   "metadata": {},
   "outputs": [
    {
     "name": "stdout",
     "output_type": "stream",
     "text": [
      "{'abc': 23, 'bcd': -3.4, 'cdef': 'kalidas', 'pqrst': 11}\n",
      "{'abc': 23, 'bcd': -3.4, 'cdef': 'kalidas', 'pqrst': 11, 'another': -900}\n"
     ]
    }
   ],
   "source": [
    "x = {'abc': 11, 'bcd' : -3.4, 'cdef': \"kalidas\", 'pqrst' : 11, 'abc': 23}\n",
    "y = dict(x)\n",
    "y['another'] = -900\n",
    "print (x)\n",
    "print (y)"
   ]
  },
  {
   "cell_type": "code",
   "execution_count": 124,
   "metadata": {},
   "outputs": [
    {
     "name": "stdout",
     "output_type": "stream",
     "text": [
      "kali\n"
     ]
    }
   ],
   "source": [
    "def f() :\n",
    "    print ('kali')\n",
    "f()"
   ]
  },
  {
   "cell_type": "code",
   "execution_count": 125,
   "metadata": {},
   "outputs": [
    {
     "name": "stdout",
     "output_type": "stream",
     "text": [
      "1\n"
     ]
    }
   ],
   "source": [
    "def f() :\n",
    "    return 1\n",
    "print (f())"
   ]
  },
  {
   "cell_type": "code",
   "execution_count": 126,
   "metadata": {},
   "outputs": [
    {
     "name": "stdout",
     "output_type": "stream",
     "text": [
      "3\n"
     ]
    }
   ],
   "source": [
    "def f() :\n",
    "    return 1\n",
    "x = f()\n",
    "print (x+2)"
   ]
  },
  {
   "cell_type": "code",
   "execution_count": 127,
   "metadata": {},
   "outputs": [
    {
     "name": "stdout",
     "output_type": "stream",
     "text": [
      "8\n"
     ]
    }
   ],
   "source": [
    "def f(a) :\n",
    "    return 3*a\n",
    "x = f(2)\n",
    "print (x + 2)"
   ]
  },
  {
   "cell_type": "code",
   "execution_count": 129,
   "metadata": {},
   "outputs": [
    {
     "name": "stdout",
     "output_type": "stream",
     "text": [
      "25\n"
     ]
    }
   ],
   "source": [
    "def f(a,b) :\n",
    "    tmp = a**2 + 2*a*b + b**2\n",
    "    return tmp\n",
    "x = f(2,3)\n",
    "print (x)"
   ]
  },
  {
   "cell_type": "code",
   "execution_count": 130,
   "metadata": {},
   "outputs": [
    {
     "name": "stdout",
     "output_type": "stream",
     "text": [
      "[1, 2, 4, 8]\n"
     ]
    }
   ],
   "source": [
    "def f(a) :\n",
    "    tmp = [1,a,a*a,a*a*a]\n",
    "    return tmp\n",
    "x = f(2)\n",
    "print (x)"
   ]
  },
  {
   "cell_type": "code",
   "execution_count": 131,
   "metadata": {},
   "outputs": [
    {
     "name": "stdout",
     "output_type": "stream",
     "text": [
      "(8, 36, 54, 27)\n",
      "125\n"
     ]
    }
   ],
   "source": [
    "def f(a,b) :\n",
    "    return a**3, 3* a**2 * b, 3*a * b**2, b**3\n",
    "x = f(2,3)\n",
    "print (x)\n",
    "print (sum(x))"
   ]
  },
  {
   "cell_type": "code",
   "execution_count": 132,
   "metadata": {},
   "outputs": [
    {
     "name": "stdout",
     "output_type": "stream",
     "text": [
      "False True\n"
     ]
    }
   ],
   "source": [
    "def f(a,b) :\n",
    "    tmp = a==b\n",
    "    return tmp\n",
    "print (f(2,3), f(2,2))"
   ]
  },
  {
   "cell_type": "code",
   "execution_count": 133,
   "metadata": {},
   "outputs": [
    {
     "name": "stdout",
     "output_type": "stream",
     "text": [
      "120\n"
     ]
    }
   ],
   "source": [
    "def factorial(n) :\n",
    "    if n==0 :\n",
    "        return 1\n",
    "    return factorial(n-1) * n\n",
    "x = factorial(5)\n",
    "print (x)"
   ]
  },
  {
   "cell_type": "code",
   "execution_count": 134,
   "metadata": {},
   "outputs": [
    {
     "name": "stdout",
     "output_type": "stream",
     "text": [
      "3 [1, 2] [3, 1, 2]\n"
     ]
    }
   ],
   "source": [
    "mylist = [1,2,3]\n",
    "y = max(mylist)\n",
    "mylist.remove(y)\n",
    "z = [y] + mylist\n",
    "print (y,mylist, z)"
   ]
  },
  {
   "cell_type": "code",
   "execution_count": 135,
   "metadata": {},
   "outputs": [
    {
     "ename": "TypeError",
     "evalue": "'>' not supported between instances of 'list' and 'int'",
     "output_type": "error",
     "traceback": [
      "\u001b[0;31m---------------------------------------------------------------------------\u001b[0m",
      "\u001b[0;31mTypeError\u001b[0m                                 Traceback (most recent call last)",
      "Cell \u001b[0;32mIn[135], line 2\u001b[0m\n\u001b[1;32m      1\u001b[0m mylist \u001b[38;5;241m=\u001b[39m [\u001b[38;5;241m1\u001b[39m,\u001b[38;5;241m2\u001b[39m,\u001b[38;5;241m3\u001b[39m, [\u001b[38;5;241m90000\u001b[39m]]\n\u001b[0;32m----> 2\u001b[0m y \u001b[38;5;241m=\u001b[39m \u001b[38;5;28;43mmax\u001b[39;49m\u001b[43m(\u001b[49m\u001b[43mmylist\u001b[49m\u001b[43m)\u001b[49m\n",
      "\u001b[0;31mTypeError\u001b[0m: '>' not supported between instances of 'list' and 'int'"
     ]
    }
   ],
   "source": [
    "mylist = [1,2,3, [90000]]\n",
    "y = max(mylist)"
   ]
  },
  {
   "cell_type": "code",
   "execution_count": 137,
   "metadata": {},
   "outputs": [
    {
     "name": "stdout",
     "output_type": "stream",
     "text": [
      "[7, 5, 4, 3, 3, 2, 1]\n"
     ]
    }
   ],
   "source": [
    "def mysort(mylist) :\n",
    "    if len(mylist) == 0 :\n",
    "        return []\n",
    "    y = max(mylist)\n",
    "    mylist.remove(y)\n",
    "    return [y] + mysort(mylist)\n",
    "z = mysort([1,3,2,4,7,3,5])\n",
    "print (z)"
   ]
  },
  {
   "cell_type": "code",
   "execution_count": 138,
   "metadata": {},
   "outputs": [
    {
     "name": "stdout",
     "output_type": "stream",
     "text": [
      "4\n"
     ]
    }
   ],
   "source": [
    "f = lambda x : x+2\n",
    "print (f(2))"
   ]
  },
  {
   "cell_type": "code",
   "execution_count": 139,
   "metadata": {},
   "outputs": [
    {
     "name": "stdout",
     "output_type": "stream",
     "text": [
      "5\n"
     ]
    }
   ],
   "source": [
    "f = lambda x : x[0] + x[1]*x[2]\n",
    "print (f([2,1,3]))"
   ]
  },
  {
   "cell_type": "code",
   "execution_count": 140,
   "metadata": {},
   "outputs": [
    {
     "name": "stdout",
     "output_type": "stream",
     "text": [
      "True\n"
     ]
    }
   ],
   "source": [
    "f = lambda : True\n",
    "print (f())"
   ]
  },
  {
   "cell_type": "code",
   "execution_count": 141,
   "metadata": {},
   "outputs": [
    {
     "name": "stdout",
     "output_type": "stream",
     "text": [
      "True\n",
      "45.2\n"
     ]
    }
   ],
   "source": [
    "f = lambda x : True if x==1 else 45.2\n",
    "print (f(1))\n",
    "print (f(2))"
   ]
  },
  {
   "cell_type": "code",
   "execution_count": 142,
   "metadata": {},
   "outputs": [
    {
     "name": "stdout",
     "output_type": "stream",
     "text": [
      "[True, -4.65, 'kali']\n",
      "45.2\n"
     ]
    }
   ],
   "source": [
    "f = lambda x : [True, -4.65, 'kali'] if x==1 else 45.2\n",
    "print (f(1))\n",
    "print (f(2))"
   ]
  },
  {
   "cell_type": "code",
   "execution_count": 143,
   "metadata": {},
   "outputs": [
    {
     "name": "stdout",
     "output_type": "stream",
     "text": [
      "8 12\n"
     ]
    }
   ],
   "source": [
    "def myfun(a) :\n",
    "    tmp = lambda x : x*a\n",
    "    return tmp\n",
    "doubler = myfun(2)\n",
    "tripler = myfun(3)\n",
    "print (doubler(4), tripler(4))"
   ]
  },
  {
   "cell_type": "code",
   "execution_count": 144,
   "metadata": {},
   "outputs": [
    {
     "name": "stdout",
     "output_type": "stream",
     "text": [
      "8 12\n"
     ]
    }
   ],
   "source": [
    "tmp = [lambda x : x*2, lambda x : x*3, lambda x : x + 1000]\n",
    "print (tmp[0](4), tmp[1](4) )"
   ]
  },
  {
   "cell_type": "code",
   "execution_count": 145,
   "metadata": {},
   "outputs": [
    {
     "name": "stdout",
     "output_type": "stream",
     "text": [
      "24.6\n",
      "36.900000000000006\n",
      "1012.3\n"
     ]
    }
   ],
   "source": [
    "tmp = [lambda x : x*2, lambda x : x*3, lambda x : x + 1000]\n",
    "for myfun in tmp :\n",
    "    print (myfun(12.3))"
   ]
  },
  {
   "cell_type": "code",
   "execution_count": 146,
   "metadata": {},
   "outputs": [
    {
     "name": "stdout",
     "output_type": "stream",
     "text": [
      "[5, 7, 97, 77, 23, 73, 61]\n"
     ]
    }
   ],
   "source": [
    "x = [5, 7, 22, 97, 54, 62, 77, 23, 73, 61]\n",
    "y = list( filter(lambda a : a%2!=0, x) ) #filter-in (as against filter-out intuition)\n",
    "print (y)"
   ]
  },
  {
   "cell_type": "code",
   "execution_count": 147,
   "metadata": {},
   "outputs": [
    {
     "name": "stdout",
     "output_type": "stream",
     "text": [
      "[10, 14, 44, 194, 108, 124, 154, 46, 146, 122]\n"
     ]
    }
   ],
   "source": [
    "x = [5, 7, 22, 97, 54, 62, 77, 23, 73, 61]\n",
    "y = list( map(lambda a : a*2, x) )\n",
    "print (y)"
   ]
  },
  {
   "cell_type": "code",
   "execution_count": 148,
   "metadata": {},
   "outputs": [
    {
     "name": "stdout",
     "output_type": "stream",
     "text": [
      "481\n"
     ]
    }
   ],
   "source": [
    "import functools\n",
    "x = [5, 7, 22, 97, 54, 62, 77, 23, 73, 61]\n",
    "y = functools.reduce( lambda a,b : a + b, x)\n",
    "print (y)"
   ]
  },
  {
   "cell_type": "code",
   "execution_count": 149,
   "metadata": {},
   "outputs": [
    {
     "name": "stdout",
     "output_type": "stream",
     "text": [
      "[5, 7, 22, 97, 54, 62, 77, 23, 73, 61]\n"
     ]
    }
   ],
   "source": [
    "x = [5, 7, 22, 97, 54, 62, 77, 23, 73, 61]\n",
    "y = [ a for a in x ]\n",
    "print (y)"
   ]
  },
  {
   "cell_type": "code",
   "execution_count": 150,
   "metadata": {},
   "outputs": [
    {
     "name": "stdout",
     "output_type": "stream",
     "text": [
      "[5, 7, 97, 77, 23, 73, 61]\n"
     ]
    }
   ],
   "source": [
    "x = [5, 7, 22, 97, 54, 62, 77, 23, 73, 61]\n",
    "y = [ a for a in x if a%2==1]\n",
    "print (y)"
   ]
  },
  {
   "cell_type": "code",
   "execution_count": 151,
   "metadata": {},
   "outputs": [
    {
     "name": "stdout",
     "output_type": "stream",
     "text": [
      "{'cdef': -100}\n"
     ]
    }
   ],
   "source": [
    "x = {'abc':1,'bcd':23,'cdef':-100}\n",
    "y = {a:b for a,b in x.items() if b < 0}\n",
    "print (y)"
   ]
  },
  {
   "cell_type": "code",
   "execution_count": 152,
   "metadata": {},
   "outputs": [
    {
     "name": "stdout",
     "output_type": "stream",
     "text": [
      "{'a.b': 1, 'a.c': 23}\n"
     ]
    }
   ],
   "source": [
    "x = {'a.b':1,'a.c':23,'b.a':-100}\n",
    "y = {a:b for a,b in x.items() if a.startswith('a')}\n",
    "print (y)"
   ]
  },
  {
   "cell_type": "code",
   "execution_count": 153,
   "metadata": {},
   "outputs": [],
   "source": [
    "import math\n",
    "class myclass :\n",
    "    def __init__(self, x,y) :\n",
    "        self.x = x\n",
    "        self.y = y\n",
    "    def mydist(self) :\n",
    "        return math.sqrt(self.x **2 + self.y **2)"
   ]
  },
  {
   "cell_type": "code",
   "execution_count": 155,
   "metadata": {},
   "outputs": [
    {
     "name": "stdout",
     "output_type": "stream",
     "text": [
      "2.23606797749979 3.605551275463989\n"
     ]
    }
   ],
   "source": [
    "a = myclass(1,2)\n",
    "b = myclass(2,3)\n",
    "print (a.mydist(), b.mydist())"
   ]
  },
  {
   "cell_type": "code",
   "execution_count": 156,
   "metadata": {},
   "outputs": [
    {
     "name": "stdout",
     "output_type": "stream",
     "text": [
      "x=2 y=3\n"
     ]
    }
   ],
   "source": [
    "class myclass :\n",
    "    def __init__(self,x,y) :\n",
    "        self.x = x\n",
    "        self.y = y\n",
    "    def __str__(self) :\n",
    "        return \"x={0} y={1}\".format(self.x,self.y)\n",
    "a = myclass(2,3)\n",
    "print (a)"
   ]
  },
  {
   "cell_type": "code",
   "execution_count": 157,
   "metadata": {},
   "outputs": [],
   "source": [
    "class myclass :\n",
    "    def __init__(self,x,y) :\n",
    "        self.x = x\n",
    "        self.y = y\n",
    "    def _rep_(self):\n",
    "        return(\"umakant\")"
   ]
  },
  {
   "cell_type": "code",
   "execution_count": 158,
   "metadata": {},
   "outputs": [
    {
     "name": "stdout",
     "output_type": "stream",
     "text": [
      "<__main__.myclass object at 0x7f41d95a6290>\n"
     ]
    }
   ],
   "source": [
    "a = myclass(1,2)\n",
    "print (a)"
   ]
  },
  {
   "cell_type": "code",
   "execution_count": 159,
   "metadata": {},
   "outputs": [],
   "source": [
    "class myclass :\n",
    "    def __init__(self,x,y) :\n",
    "        self.x = x\n",
    "        self.y = y\n",
    "    def __repr__(self) :\n",
    "        return \"(x={0} y={1})\".format(self.x,self.y)\n",
    "    def __eq__(self,other):\n",
    "        return self.x==other.x and self.y==other.y\n",
    "    def __lt__(self,other) :\n",
    "        if not self.__eq__(other) and self.x < other.x or self.y < other.y :\n",
    "            return True\n",
    "        return False"
   ]
  },
  {
   "cell_type": "code",
   "execution_count": 160,
   "metadata": {},
   "outputs": [
    {
     "name": "stdout",
     "output_type": "stream",
     "text": [
      "False True False False\n"
     ]
    }
   ],
   "source": [
    "a = myclass(1,2)\n",
    "b = myclass(1,2)\n",
    "print (a is b, a==b, a<b, a>b)"
   ]
  },
  {
   "cell_type": "code",
   "execution_count": 161,
   "metadata": {},
   "outputs": [
    {
     "name": "stdout",
     "output_type": "stream",
     "text": [
      "True\n"
     ]
    }
   ],
   "source": [
    "a = myclass(1,2)\n",
    "b = myclass(1,3)\n",
    "print (a<b)"
   ]
  },
  {
   "cell_type": "code",
   "execution_count": 162,
   "metadata": {},
   "outputs": [
    {
     "name": "stdout",
     "output_type": "stream",
     "text": [
      "True False\n"
     ]
    }
   ],
   "source": [
    "a = myclass(1,2)\n",
    "b = myclass(2,3)\n",
    "print (a<b, a>b)"
   ]
  },
  {
   "cell_type": "code",
   "execution_count": 163,
   "metadata": {},
   "outputs": [
    {
     "name": "stdout",
     "output_type": "stream",
     "text": [
      "False\n"
     ]
    }
   ],
   "source": [
    "a = myclass(1,3)\n",
    "b = myclass(1,2)\n",
    "print (a<b)"
   ]
  },
  {
   "cell_type": "code",
   "execution_count": 165,
   "metadata": {},
   "outputs": [
    {
     "name": "stdout",
     "output_type": "stream",
     "text": [
      "[(x=3 y=1), (x=2 y=2), (x=2 y=1), (x=1 y=3), (x=1 y=2), (x=1 y=2)]\n",
      "[(x=1 y=2), (x=1 y=2), (x=1 y=3), (x=2 y=1), (x=2 y=2), (x=3 y=1)]\n"
     ]
    }
   ],
   "source": [
    "a = myclass(1,2)\n",
    "b = myclass(1,3)\n",
    "c = myclass(2,1)\n",
    "d = myclass(2,2)\n",
    "e = myclass(3,1)\n",
    "a1 = myclass(1,2)\n",
    "x= [e,d,c,b,a, a1]\n",
    "print (x)\n",
    "y = sorted(x)\n",
    "print (y)"
   ]
  },
  {
   "cell_type": "code",
   "execution_count": 166,
   "metadata": {},
   "outputs": [
    {
     "name": "stdout",
     "output_type": "stream",
     "text": [
      "['12', '34', '56']\n"
     ]
    }
   ],
   "source": [
    "x = \"12,34,56\"\n",
    "y = x.split(',')\n",
    "print (y)"
   ]
  },
  {
   "cell_type": "code",
   "execution_count": 168,
   "metadata": {},
   "outputs": [
    {
     "name": "stdout",
     "output_type": "stream",
     "text": [
      "['a', 'bc', 'de', 'efg', 'h', 'ijkl', 'm']\n"
     ]
    }
   ],
   "source": [
    "x = \"a.bc.de.efg.h.ijkl.m\"\n",
    "\n",
    "y = x.split('.')\n",
    "print (y)"
   ]
  },
  {
   "cell_type": "code",
   "execution_count": 169,
   "metadata": {},
   "outputs": [
    {
     "name": "stdout",
     "output_type": "stream",
     "text": [
      "['a.bc.de.efg.h.ijkl.m']\n"
     ]
    }
   ],
   "source": [
    "x = \"a.bc.de.efg.h.ijkl.m\"\n",
    "y = x.split('xyz') #try with ef\n",
    "print (y)"
   ]
  },
  {
   "cell_type": "code",
   "execution_count": 170,
   "metadata": {},
   "outputs": [
    {
     "ename": "TypeError",
     "evalue": "sequence item 0: expected str instance, int found",
     "output_type": "error",
     "traceback": [
      "\u001b[0;31m---------------------------------------------------------------------------\u001b[0m",
      "\u001b[0;31mTypeError\u001b[0m                                 Traceback (most recent call last)",
      "Cell \u001b[0;32mIn[170], line 2\u001b[0m\n\u001b[1;32m      1\u001b[0m x \u001b[38;5;241m=\u001b[39m [\u001b[38;5;241m12\u001b[39m, \u001b[38;5;241m34\u001b[39m, \u001b[38;5;241m56\u001b[39m]\n\u001b[0;32m----> 2\u001b[0m y \u001b[38;5;241m=\u001b[39m \u001b[38;5;124;43m'\u001b[39;49m\u001b[38;5;124;43m,\u001b[39;49m\u001b[38;5;124;43m'\u001b[39;49m\u001b[38;5;241;43m.\u001b[39;49m\u001b[43mjoin\u001b[49m\u001b[43m(\u001b[49m\u001b[43mx\u001b[49m\u001b[43m)\u001b[49m\n\u001b[1;32m      3\u001b[0m \u001b[38;5;28mprint\u001b[39m (y)\n",
      "\u001b[0;31mTypeError\u001b[0m: sequence item 0: expected str instance, int found"
     ]
    }
   ],
   "source": [
    "x = [12, 34, 56]\n",
    "y = ','.join(x)\n",
    "print (y)"
   ]
  },
  {
   "cell_type": "code",
   "execution_count": 171,
   "metadata": {},
   "outputs": [
    {
     "name": "stdout",
     "output_type": "stream",
     "text": [
      "12,34,56\n"
     ]
    }
   ],
   "source": [
    "x = [12, 34, 56]\n",
    "x2 = ['12','34','56']\n",
    "y = ','.join(x2)\n",
    "print (y)"
   ]
  },
  {
   "cell_type": "code",
   "execution_count": 172,
   "metadata": {},
   "outputs": [
    {
     "name": "stdout",
     "output_type": "stream",
     "text": [
      "12,34,56\n"
     ]
    }
   ],
   "source": [
    "print (','.join( [str(ele) for ele in x] ) )"
   ]
  },
  {
   "cell_type": "code",
   "execution_count": 173,
   "metadata": {},
   "outputs": [
    {
     "name": "stdout",
     "output_type": "stream",
     "text": [
      "al\n",
      "kal\n"
     ]
    },
    {
     "ename": "TypeError",
     "evalue": "string indices must be integers, not 'list'",
     "output_type": "error",
     "traceback": [
      "\u001b[0;31m---------------------------------------------------------------------------\u001b[0m",
      "\u001b[0;31mTypeError\u001b[0m                                 Traceback (most recent call last)",
      "Cell \u001b[0;32mIn[173], line 4\u001b[0m\n\u001b[1;32m      2\u001b[0m \u001b[38;5;28mprint\u001b[39m (mystr[\u001b[38;5;241m1\u001b[39m:\u001b[38;5;241m3\u001b[39m])\n\u001b[1;32m      3\u001b[0m \u001b[38;5;28mprint\u001b[39m (mystr[:\u001b[38;5;241m3\u001b[39m])\n\u001b[0;32m----> 4\u001b[0m \u001b[38;5;28mprint\u001b[39m (\u001b[43mmystr\u001b[49m\u001b[43m[\u001b[49m\u001b[43m[\u001b[49m\u001b[38;5;241;43m0\u001b[39;49m\u001b[43m,\u001b[49m\u001b[38;5;241;43m1\u001b[39;49m\u001b[43m]\u001b[49m\u001b[43m]\u001b[49m)\n",
      "\u001b[0;31mTypeError\u001b[0m: string indices must be integers, not 'list'"
     ]
    }
   ],
   "source": [
    "mystr = 'kalidas'\n",
    "print (mystr[1:3])\n",
    "print (mystr[:3])\n",
    "print (mystr[[0,1]])"
   ]
  },
  {
   "cell_type": "code",
   "execution_count": 174,
   "metadata": {},
   "outputs": [
    {
     "name": "stdout",
     "output_type": "stream",
     "text": [
      "['k', 'a', 'i', 'l']\n"
     ]
    }
   ],
   "source": [
    "mystr = 'kalidas'\n",
    "myindex_list = [0,1,3,2]\n",
    "print ([mystr[i] for i in myindex_list])"
   ]
  },
  {
   "cell_type": "code",
   "execution_count": 176,
   "metadata": {},
   "outputs": [
    {
     "name": "stdout",
     "output_type": "stream",
     "text": [
      "[1, 23, 4]\n",
      "<class 'list'> [1, 23, 4]\n"
     ]
    }
   ],
   "source": [
    "text=\"[1,23,4]\"\n",
    "print( eval(text))\n",
    "x = eval(text)\n",
    "print (type(x), x)"
   ]
  },
  {
   "cell_type": "code",
   "execution_count": 177,
   "metadata": {},
   "outputs": [
    {
     "ename": "SyntaxError",
     "evalue": "invalid syntax (<string>, line 1)",
     "output_type": "error",
     "traceback": [
      "Traceback \u001b[0;36m(most recent call last)\u001b[0m:\n",
      "\u001b[0m  File \u001b[1;32m~/.local/lib/python3.11/site-packages/IPython/core/interactiveshell.py:3553\u001b[0m in \u001b[1;35mrun_code\u001b[0m\n    exec(code_obj, self.user_global_ns, self.user_ns)\u001b[0m\n",
      "\u001b[0;36m  Cell \u001b[0;32mIn[177], line 2\u001b[0;36m\n\u001b[0;31m    eval(text)\u001b[0;36m\n",
      "\u001b[0;36m  File \u001b[0;32m<string>:1\u001b[0;36m\u001b[0m\n\u001b[0;31m    x = 3\u001b[0m\n\u001b[0m      ^\u001b[0m\n\u001b[0;31mSyntaxError\u001b[0m\u001b[0;31m:\u001b[0m invalid syntax\n"
     ]
    }
   ],
   "source": [
    "text = \"x = 3\"\n",
    "eval(text)"
   ]
  },
  {
   "cell_type": "code",
   "execution_count": 178,
   "metadata": {},
   "outputs": [
    {
     "name": "stdout",
     "output_type": "stream",
     "text": [
      "<function <lambda> at 0x7f41d94351c0>\n",
      "5\n"
     ]
    }
   ],
   "source": [
    "text = \"lambda x : x[0]**2 + x[1]**2\"\n",
    "x = eval(text)\n",
    "print (x)\n",
    "print ( x( (1,2) ) )"
   ]
  },
  {
   "cell_type": "code",
   "execution_count": 179,
   "metadata": {},
   "outputs": [
    {
     "name": "stdout",
     "output_type": "stream",
     "text": [
      "3 4\n"
     ]
    }
   ],
   "source": [
    "x = 3\n",
    "pass\n",
    "y = 4\n",
    "print (x,y)"
   ]
  },
  {
   "cell_type": "code",
   "execution_count": 180,
   "metadata": {},
   "outputs": [
    {
     "name": "stdout",
     "output_type": "stream",
     "text": [
      "0\n",
      "1\n",
      "2\n",
      "3\n",
      "kali\n"
     ]
    }
   ],
   "source": [
    "for i in range(4) :\n",
    "    pass\n",
    "    print (i)\n",
    "print ('kali')"
   ]
  },
  {
   "cell_type": "code",
   "execution_count": 181,
   "metadata": {},
   "outputs": [
    {
     "name": "stdout",
     "output_type": "stream",
     "text": [
      "division by zero\n"
     ]
    }
   ],
   "source": [
    "try :\n",
    "    x = 1/0\n",
    "    print (x)\n",
    "except Exception as e:\n",
    "    print(e)"
   ]
  },
  {
   "cell_type": "code",
   "execution_count": 182,
   "metadata": {},
   "outputs": [
    {
     "name": "stdout",
     "output_type": "stream",
     "text": [
      "{'key2': 'val2'}\n"
     ]
    }
   ],
   "source": [
    "try :\n",
    "    x = {'key1':'val1','key2':'val2'}\n",
    "    del x['key1']\n",
    "    print (x)\n",
    "except Exception as e :\n",
    "    print ('Error', e)"
   ]
  },
  {
   "cell_type": "code",
   "execution_count": 183,
   "metadata": {},
   "outputs": [
    {
     "name": "stdout",
     "output_type": "stream",
     "text": [
      "Error 'key3'\n"
     ]
    }
   ],
   "source": [
    "try :\n",
    "    x = {'key1':'val1','key2':'val2'}\n",
    "    del x['key3']\n",
    "    print (x)\n",
    "except Exception as e :\n",
    "    print ('Error', e)"
   ]
  },
  {
   "cell_type": "code",
   "execution_count": 184,
   "metadata": {},
   "outputs": [
    {
     "name": "stdout",
     "output_type": "stream",
     "text": [
      "Error 'key3'\n"
     ]
    }
   ],
   "source": [
    "try :\n",
    "    x = {'key1':'val1','key2':'val2'}\n",
    "    del x['key3']\n",
    "    print (x)\n",
    "except Exception as e :\n",
    "    print ('Error', e)"
   ]
  },
  {
   "cell_type": "code",
   "execution_count": 185,
   "metadata": {},
   "outputs": [
    {
     "name": "stdout",
     "output_type": "stream",
     "text": [
      "as if nothing happened\n"
     ]
    }
   ],
   "source": [
    "try :\n",
    "    x = {'key1':'val1','key2':'val2'}\n",
    "    del x['key3']\n",
    "    print (x)\n",
    "except Exception as e :\n",
    "    pass\n",
    "print ('as if nothing happened')"
   ]
  },
  {
   "cell_type": "code",
   "execution_count": 186,
   "metadata": {},
   "outputs": [
    {
     "name": "stdout",
     "output_type": "stream",
     "text": [
      "{'key1': 'val1', 'key2': 'val2'}\n",
      "{'key2': 'val2'}\n",
      "{'key2': 'val2'}\n"
     ]
    }
   ],
   "source": [
    "def mydelete(x, key) :\n",
    "    try :\n",
    "        del x[key]\n",
    "    except :\n",
    "        pass\n",
    "x = {'key1':'val1','key2':'val2'}\n",
    "print (x)\n",
    "mydelete(x,'key1')\n",
    "print (x)\n",
    "mydelete(x,'key3')\n",
    "print (x)\n"
   ]
  },
  {
   "cell_type": "code",
   "execution_count": null,
   "metadata": {},
   "outputs": [],
   "source": []
  }
 ],
 "metadata": {
  "kernelspec": {
   "display_name": "Python 3",
   "language": "python",
   "name": "python3"
  },
  "language_info": {
   "codemirror_mode": {
    "name": "ipython",
    "version": 3
   },
   "file_extension": ".py",
   "mimetype": "text/x-python",
   "name": "python",
   "nbconvert_exporter": "python",
   "pygments_lexer": "ipython3",
   "version": "3.11.7"
  }
 },
 "nbformat": 4,
 "nbformat_minor": 2
}
