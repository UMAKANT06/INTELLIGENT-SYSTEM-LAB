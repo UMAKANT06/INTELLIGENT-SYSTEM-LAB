{
 "cells": [
  {
   "cell_type": "code",
   "execution_count": 13,
   "metadata": {},
   "outputs": [],
   "source": [
    "import numpy as np\n",
    "import matplotlib.pyplot as plt\n",
    "from sklearn.datasets import fetch_rcv1,fetch_20newsgroups\n",
    "from sklearn.feature_extraction.text import CountVectorizer\n",
    "from sklearn.tree import DecisionTreeClassifier\n",
    "from sklearn.ensemble import RandomForestClassifier\n",
    "from sklearn.metrics import accuracy_score, confusion_matrix\n",
    "from sklearn.model_selection import train_test_split"
   ]
  },
  {
   "cell_type": "code",
   "execution_count": 14,
   "metadata": {},
   "outputs": [],
   "source": [
    "# Load the 20 Newsgroups dataset\n",
    "newsgroups_train = fetch_20newsgroups(subset='train')"
   ]
  },
  {
   "cell_type": "code",
   "execution_count": 15,
   "metadata": {},
   "outputs": [
    {
     "name": "stdout",
     "output_type": "stream",
     "text": [
      "Decision Tree Accuracy with stop words (with Hashing Vectorizer): 0.4423\n"
     ]
    }
   ],
   "source": [
    "from sklearn.feature_extraction.text import HashingVectorizer\n",
    "from sklearn.tree import DecisionTreeClassifier\n",
    "\n",
    "# Vectorize the text data using Hashing Vectorizer\n",
    "vectorizer = HashingVectorizer(stop_words='english', n_features=2**10)  # Adjust n_features as needed\n",
    "X_hashed = vectorizer.transform(newsgroups_train.data)\n",
    "\n",
    "# Split the data into training and testing sets\n",
    "X_train_hashed, X_test_hashed, y_train, y_test = train_test_split(X_hashed, newsgroups_train.target, test_size=0.2, random_state=42)\n",
    "\n",
    "# Train a Decision Tree Classifier\n",
    "clf_tree_hashed = DecisionTreeClassifier()\n",
    "clf_tree_hashed.fit(X_train_hashed, y_train)\n",
    "\n",
    "# Make predictions\n",
    "y_pred_tree_hashed = clf_tree_hashed.predict(X_test_hashed)\n",
    "\n",
    "# Evaluate model performance\n",
    "accuracy_tree_hashed = accuracy_score(y_test, y_pred_tree_hashed)\n",
    "conf_matrix_tree_hashed = confusion_matrix(y_test, y_pred_tree_hashed)\n",
    "\n",
    "print(f\"Decision Tree Accuracy with stop words (with Hashing Vectorizer): {accuracy_tree_hashed:.4f}\")\n",
    "\n"
   ]
  },
  {
   "cell_type": "code",
   "execution_count": 16,
   "metadata": {},
   "outputs": [
    {
     "name": "stdout",
     "output_type": "stream",
     "text": [
      "Random Forest Accuracy with stop words (with Hashing Vectorizer): 0.7159\n"
     ]
    }
   ],
   "source": [
    "from sklearn.ensemble import RandomForestClassifier\n",
    "\n",
    "# Train a Random Forest Classifier\n",
    "clf_rf_hashed = RandomForestClassifier(n_estimators=100, random_state=42)\n",
    "clf_rf_hashed.fit(X_train_hashed, y_train)\n",
    "\n",
    "# Make predictions\n",
    "y_pred_rf_hashed = clf_rf_hashed.predict(X_test_hashed)\n",
    "\n",
    "# Evaluate model performance\n",
    "accuracy_rf_hashed = accuracy_score(y_test, y_pred_rf_hashed)\n",
    "conf_matrix_rf_hashed = confusion_matrix(y_test, y_pred_rf_hashed)\n",
    "\n",
    "print(f\"Random Forest Accuracy with stop words (with Hashing Vectorizer): {accuracy_rf_hashed:.4f}\")\n"
   ]
  },
  {
   "cell_type": "code",
   "execution_count": 17,
   "metadata": {},
   "outputs": [],
   "source": [
    "# WITHOUT STOP WORDS\n"
   ]
  },
  {
   "cell_type": "code",
   "execution_count": 18,
   "metadata": {},
   "outputs": [
    {
     "name": "stdout",
     "output_type": "stream",
     "text": [
      "Decision Tree Accuracy without stop words (with Hashing Vectorizer): 0.6407\n"
     ]
    }
   ],
   "source": [
    "from sklearn.feature_extraction.text import HashingVectorizer\n",
    "from sklearn.tree import DecisionTreeClassifier\n",
    "\n",
    "# Vectorize the text data using Hashing Vectorizer (including stop words)\n",
    "vectorizer = HashingVectorizer()  # Adjust n_features as needed\n",
    "X_hashed = vectorizer.transform(newsgroups_train.data)\n",
    "\n",
    "# Split the data into training and testing sets\n",
    "X_train_hashed, X_test_hashed, y_train, y_test = train_test_split(X_hashed, newsgroups_train.target, test_size=0.2, random_state=42)\n",
    "\n",
    "# Train a Decision Tree Classifier\n",
    "clf_tree_hashed = DecisionTreeClassifier()\n",
    "clf_tree_hashed.fit(X_train_hashed, y_train)\n",
    "\n",
    "# Make predictions\n",
    "y_pred_tree_hashed = clf_tree_hashed.predict(X_test_hashed)\n",
    "\n",
    "# Evaluate model performance\n",
    "accuracy_tree_hashed = accuracy_score(y_test, y_pred_tree_hashed)\n",
    "conf_matrix_tree_hashed = confusion_matrix(y_test, y_pred_tree_hashed)\n",
    "\n",
    "print(f\"Decision Tree Accuracy without stop words (with Hashing Vectorizer): {accuracy_tree_hashed:.4f}\")\n"
   ]
  },
  {
   "cell_type": "code",
   "execution_count": 20,
   "metadata": {},
   "outputs": [
    {
     "name": "stdout",
     "output_type": "stream",
     "text": [
      "Random Forest Accuracy without stop words (with Hashing Vectorizer ): 0.8343\n"
     ]
    }
   ],
   "source": [
    "from sklearn.ensemble import RandomForestClassifier\n",
    "\n",
    "# Train a Random Forest Classifier\n",
    "clf_rf_hashed = RandomForestClassifier(n_estimators=100, random_state=42)\n",
    "clf_rf_hashed.fit(X_train_hashed, y_train)\n",
    "\n",
    "# Make predictions\n",
    "y_pred_rf_hashed = clf_rf_hashed.predict(X_test_hashed)\n",
    "\n",
    "# Evaluate model performance\n",
    "accuracy_rf_hashed = accuracy_score(y_test, y_pred_rf_hashed)\n",
    "conf_matrix_rf_hashed = confusion_matrix(y_test, y_pred_rf_hashed)\n",
    "\n",
    "print(f\"Random Forest Accuracy without stop words (with Hashing Vectorizer ): {accuracy_rf_hashed:.4f}\")\n",
    "\n"
   ]
  },
  {
   "cell_type": "code",
   "execution_count": null,
   "metadata": {},
   "outputs": [],
   "source": []
  },
  {
   "cell_type": "code",
   "execution_count": null,
   "metadata": {},
   "outputs": [],
   "source": []
  }
 ],
 "metadata": {
  "kernelspec": {
   "display_name": "Python 3",
   "language": "python",
   "name": "python3"
  },
  "language_info": {
   "codemirror_mode": {
    "name": "ipython",
    "version": 3
   },
   "file_extension": ".py",
   "mimetype": "text/x-python",
   "name": "python",
   "nbconvert_exporter": "python",
   "pygments_lexer": "ipython3",
   "version": "3.11.7"
  }
 },
 "nbformat": 4,
 "nbformat_minor": 2
}
