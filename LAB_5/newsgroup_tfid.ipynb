{
 "cells": [
  {
   "cell_type": "code",
   "execution_count": 8,
   "metadata": {},
   "outputs": [],
   "source": [
    "import numpy as np\n",
    "import matplotlib.pyplot as plt\n",
    "from sklearn.datasets import fetch_rcv1,fetch_20newsgroups\n",
    "from sklearn.feature_extraction.text import CountVectorizer\n",
    "from sklearn.tree import DecisionTreeClassifier\n",
    "from sklearn.ensemble import RandomForestClassifier\n",
    "from sklearn.metrics import accuracy_score, confusion_matrix\n",
    "from sklearn.model_selection import train_test_split"
   ]
  },
  {
   "cell_type": "code",
   "execution_count": 9,
   "metadata": {},
   "outputs": [],
   "source": [
    "# Load the 20 Newsgroups dataset\n",
    "newsgroups_train = fetch_20newsgroups(subset='train')"
   ]
  },
  {
   "cell_type": "code",
   "execution_count": 10,
   "metadata": {},
   "outputs": [
    {
     "name": "stdout",
     "output_type": "stream",
     "text": [
      "Decision Tree Accuracy  with stop words(with TF-IDF Vectorizer): 0.6544\n"
     ]
    }
   ],
   "source": [
    "from sklearn.feature_extraction.text import TfidfVectorizer\n",
    "from sklearn.tree import DecisionTreeClassifier\n",
    "\n",
    "# Vectorize the text data using TF-IDF Vectorizer\n",
    "vectorizer = TfidfVectorizer(stop_words='english')\n",
    "X_tfidf = vectorizer.fit_transform(newsgroups_train.data)\n",
    "\n",
    "# Split the data into training and testing sets\n",
    "X_train_tfidf, X_test_tfidf, y_train, y_test = train_test_split(X_tfidf, newsgroups_train.target, test_size=0.2, random_state=42)\n",
    "\n",
    "# Train a Decision Tree Classifier\n",
    "clf_tree_tfidf = DecisionTreeClassifier()\n",
    "clf_tree_tfidf.fit(X_train_tfidf, y_train)\n",
    "\n",
    "# Make predictions\n",
    "y_pred_tree_tfidf = clf_tree_tfidf.predict(X_test_tfidf)\n",
    "\n",
    "# Evaluate model performance\n",
    "accuracy_tree_tfidf = accuracy_score(y_test, y_pred_tree_tfidf)\n",
    "conf_matrix_tree_tfidf = confusion_matrix(y_test, y_pred_tree_tfidf)\n",
    "\n",
    "print(f\"Decision Tree Accuracy  with stop words(with TF-IDF Vectorizer): {accuracy_tree_tfidf:.4f}\")\n"
   ]
  },
  {
   "cell_type": "code",
   "execution_count": 11,
   "metadata": {},
   "outputs": [
    {
     "name": "stdout",
     "output_type": "stream",
     "text": [
      "Random Forest Accuracy with stop words (with TF-IDF Vectorizer): 0.8568\n"
     ]
    }
   ],
   "source": [
    "from sklearn.ensemble import RandomForestClassifier\n",
    "\n",
    "# Train a Random Forest Classifier\n",
    "clf_rf_tfidf = RandomForestClassifier(n_estimators=100, random_state=42)\n",
    "clf_rf_tfidf.fit(X_train_tfidf, y_train)\n",
    "\n",
    "# Make predictions\n",
    "y_pred_rf_tfidf = clf_rf_tfidf.predict(X_test_tfidf)\n",
    "\n",
    "# Evaluate model performance\n",
    "accuracy_rf_tfidf = accuracy_score(y_test, y_pred_rf_tfidf)\n",
    "conf_matrix_rf_tfidf = confusion_matrix(y_test, y_pred_rf_tfidf)\n",
    "\n",
    "print(f\"Random Forest Accuracy with stop words (with TF-IDF Vectorizer): {accuracy_rf_tfidf:.4f}\")\n",
    "\n"
   ]
  },
  {
   "cell_type": "code",
   "execution_count": 12,
   "metadata": {},
   "outputs": [],
   "source": [
    "## WITHOUT STOP WORDS"
   ]
  },
  {
   "cell_type": "code",
   "execution_count": 13,
   "metadata": {},
   "outputs": [
    {
     "name": "stdout",
     "output_type": "stream",
     "text": [
      "Decision Tree Accuracy without stop words (with TF-IDF Vectorizer): 0.6460\n"
     ]
    }
   ],
   "source": [
    "from sklearn.feature_extraction.text import TfidfVectorizer\n",
    "from sklearn.tree import DecisionTreeClassifier\n",
    "\n",
    "# Vectorize the text data using TF-IDF Vectorizer\n",
    "vectorizer = TfidfVectorizer()\n",
    "X_tfidf = vectorizer.fit_transform(newsgroups_train.data)\n",
    "\n",
    "# Split the data into training and testing sets\n",
    "X_train_tfidf, X_test_tfidf, y_train, y_test = train_test_split(X_tfidf, newsgroups_train.target, test_size=0.2, random_state=42)\n",
    "\n",
    "# Train a Decision Tree Classifier\n",
    "clf_tree_tfidf = DecisionTreeClassifier()\n",
    "clf_tree_tfidf.fit(X_train_tfidf, y_train)\n",
    "\n",
    "# Make predictions\n",
    "y_pred_tree_tfidf = clf_tree_tfidf.predict(X_test_tfidf)\n",
    "\n",
    "# Evaluate model performance\n",
    "accuracy_tree_tfidf = accuracy_score(y_test, y_pred_tree_tfidf)\n",
    "conf_matrix_tree_tfidf = confusion_matrix(y_test, y_pred_tree_tfidf)\n",
    "\n",
    "print(f\"Decision Tree Accuracy without stop words (with TF-IDF Vectorizer): {accuracy_tree_tfidf:.4f}\")\n"
   ]
  },
  {
   "cell_type": "code",
   "execution_count": 15,
   "metadata": {},
   "outputs": [
    {
     "name": "stdout",
     "output_type": "stream",
     "text": [
      "Random Forest Accuracy without stop words(with TF-IDF Vectorizer): 0.8338\n"
     ]
    }
   ],
   "source": [
    "from sklearn.ensemble import RandomForestClassifier\n",
    "\n",
    "# Train a Random Forest Classifier\n",
    "clf_rf_tfidf = RandomForestClassifier(n_estimators=100, random_state=42)\n",
    "clf_rf_tfidf.fit(X_train_tfidf, y_train)\n",
    "\n",
    "# Make predictions\n",
    "y_pred_rf_tfidf = clf_rf_tfidf.predict(X_test_tfidf)\n",
    "\n",
    "# Evaluate model performance\n",
    "accuracy_rf_tfidf = accuracy_score(y_test, y_pred_rf_tfidf)\n",
    "conf_matrix_rf_tfidf = confusion_matrix(y_test, y_pred_rf_tfidf)\n",
    "\n",
    "print(f\"Random Forest Accuracy without stop words(with TF-IDF Vectorizer): {accuracy_rf_tfidf:.4f}\")\n",
    "\n"
   ]
  },
  {
   "cell_type": "code",
   "execution_count": null,
   "metadata": {},
   "outputs": [],
   "source": []
  },
  {
   "cell_type": "code",
   "execution_count": null,
   "metadata": {},
   "outputs": [],
   "source": []
  }
 ],
 "metadata": {
  "kernelspec": {
   "display_name": "Python 3",
   "language": "python",
   "name": "python3"
  },
  "language_info": {
   "codemirror_mode": {
    "name": "ipython",
    "version": 3
   },
   "file_extension": ".py",
   "mimetype": "text/x-python",
   "name": "python",
   "nbconvert_exporter": "python",
   "pygments_lexer": "ipython3",
   "version": "3.11.7"
  }
 },
 "nbformat": 4,
 "nbformat_minor": 2
}
